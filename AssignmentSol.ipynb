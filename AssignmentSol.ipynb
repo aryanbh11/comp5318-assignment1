{
 "cells": [
  {
   "cell_type": "markdown",
   "id": "e1436aa6-7d31-41b7-a5de-9ec8bfaffc2e",
   "metadata": {},
   "source": [
    "COMP5318 - Machine Learning and Data Mining: Assignment 1"
   ]
  },
  {
   "cell_type": "code",
   "execution_count": 498,
   "id": "39469cbb-b513-4095-a289-b5527ecf9d7b",
   "metadata": {
    "tags": []
   },
   "outputs": [
    {
     "name": "stdout",
     "output_type": "stream",
     "text": [
      "['train.csv']\n"
     ]
    }
   ],
   "source": [
    "import pandas as pd\n",
    "import os\n",
    "print(os.listdir(\"./Input/train\"))\n",
    "pd.set_option('display.max_columns', 10)\n",
    "\n",
    "from IPython.display import set_matplotlib_formats, display\n",
    "import pandas as pd\n",
    "import numpy as np\n",
    "import matplotlib.pyplot as plt\n",
    "from scipy.stats import skew\n",
    "from sklearn.decomposition import PCA\n",
    "from sklearn.preprocessing import StandardScaler\n",
    "from sklearn.preprocessing import MinMaxScaler\n",
    "from sklearn.model_selection import train_test_split\n",
    "from sklearn.neighbors import KNeighborsClassifier\n",
    "from sklearn.linear_model import LogisticRegression\n",
    "from sklearn.naive_bayes import GaussianNB\n",
    "from sklearn.metrics import accuracy_score\n",
    "from sklearn.tree import DecisionTreeClassifier\n",
    "from sklearn.tree import export_graphviz\n",
    "from sklearn.svm import SVC\n",
    "from sklearn.pipeline import Pipeline\n",
    "import graphviz\n",
    "\n",
    "%matplotlib inline"
   ]
  },
  {
   "cell_type": "code",
   "execution_count": null,
   "id": "59917d86-8cfd-4c82-97a8-b96be8059c95",
   "metadata": {
    "tags": []
   },
   "outputs": [],
   "source": [
    "# train.csv including feature and label using for training model.\n",
    "data_train_df = pd.read_csv('./Input/train/train.csv') "
   ]
  },
  {
   "cell_type": "code",
   "execution_count": null,
   "id": "7e38e674-c209-4cae-8397-64889d743816",
   "metadata": {
    "tags": []
   },
   "outputs": [],
   "source": [
    "# Selecting input feature\n",
    "data_train_feature = data_train_df.loc[:, \"v1\":\"v784\"].to_numpy()\n",
    "\n",
    "# Selecting output lable \n",
    "data_train_label = data_train_df.label.to_numpy()"
   ]
  },
  {
   "cell_type": "code",
   "execution_count": null,
   "id": "a9896d0a-78bd-40a2-acaa-739af4fba83c",
   "metadata": {
    "jupyter": {
     "source_hidden": true
    },
    "tags": []
   },
   "outputs": [],
   "source": [
    "# import matplotlib.pyplot as plt\n",
    "# data_train_feature = data_train_feature.reshape((data_train_feature.shape[0], 28, 28))\n",
    "# plt.imshow(data_train_feature[0], cmap=plt.get_cmap('gray'))\n",
    "# plt.title(\"class \" + str(data_train_label[0]) + \": Pullover\" )\n",
    "# plt.show()"
   ]
  },
  {
   "cell_type": "code",
   "execution_count": null,
   "id": "2e8ca73f-0d43-4802-8072-418f50d6801a",
   "metadata": {
    "tags": []
   },
   "outputs": [],
   "source": [
    "# data_train_df.loc[:, \"v1\":\"v784\"]"
   ]
  },
  {
   "cell_type": "markdown",
   "id": "104bdac4-361d-44e3-8972-97157aa596d2",
   "metadata": {},
   "source": [
    "DATA PRE-PROCESSING FOR TRAINING DATA"
   ]
  },
  {
   "cell_type": "code",
   "execution_count": null,
   "id": "db2901dc-e218-4cb8-8812-964609456a60",
   "metadata": {
    "tags": []
   },
   "outputs": [],
   "source": [
    "data_train_feature = data_train_feature.reshape(30000, 28*28)\n",
    "data_train_feature.shape"
   ]
  },
  {
   "cell_type": "code",
   "execution_count": null,
   "id": "9eb8c115-3461-4c24-8014-5fe2cd259425",
   "metadata": {
    "tags": []
   },
   "outputs": [],
   "source": [
    "# Data Normalisation\n",
    "data_train_feature = pd.DataFrame(data_train_feature)\n",
    "skewed_feats = pd.DataFrame(data_train_feature).apply(lambda x: skew(x.dropna()))\n",
    "skewed_feats = skewed_feats[skewed_feats > 0.75]\n",
    "skewed_feats = skewed_feats.index\n",
    "\n",
    "data_train_feature[skewed_feats] = np.log1p(data_train_feature[skewed_feats])\n",
    "# data_train_feature = data_train_feature.to_numpy()"
   ]
  },
  {
   "cell_type": "code",
   "execution_count": null,
   "id": "96b584ef-c1bf-4979-84ad-fcab5e808a54",
   "metadata": {
    "tags": []
   },
   "outputs": [],
   "source": [
    "# Filling NAs with the mean of the columns\n",
    "# data_train_feature = pd.get_dummies(pd.DataFrame(data_train_feature))\n",
    "data_train_feature = data_train_feature.fillna(data_train_feature.mean())\n",
    "data_train_feature "
   ]
  },
  {
   "cell_type": "code",
   "execution_count": null,
   "id": "363b49ec-2887-47b9-87d6-c1dc3d906546",
   "metadata": {
    "tags": []
   },
   "outputs": [],
   "source": [
    "# Data Standardisation\n",
    "data_train_feature = StandardScaler().fit_transform(data_train_feature)"
   ]
  },
  {
   "cell_type": "code",
   "execution_count": null,
   "id": "f831318a-56dc-410e-8648-fed11e2b3a23",
   "metadata": {
    "tags": []
   },
   "outputs": [],
   "source": [
    "pca = PCA(n_components=0.9)\n",
    "principalComponents = pca.fit_transform(data_train_feature)\n",
    "\n",
    "principalDf = pd.DataFrame(data = principalComponents)"
   ]
  },
  {
   "cell_type": "code",
   "execution_count": null,
   "id": "0972857f-c34c-4883-b529-faa9721f7ff0",
   "metadata": {
    "tags": []
   },
   "outputs": [],
   "source": [
    "finalDf = pd.concat([principalDf, data_train_df.label], axis = 1)"
   ]
  },
  {
   "cell_type": "markdown",
   "id": "d7d7709c-1d0e-4c31-9eec-3bcf88e6253a",
   "metadata": {},
   "source": [
    "       "
   ]
  },
  {
   "cell_type": "markdown",
   "id": "b7220587-df84-4ff8-b842-86f388695908",
   "metadata": {},
   "source": [
    "DATA PRE-PROCESSING FOR TESTING DATA"
   ]
  },
  {
   "cell_type": "code",
   "execution_count": 310,
   "id": "59fc71f5-eb1c-424f-9f49-3a4ab6e5ac1d",
   "metadata": {
    "collapsed": true,
    "jupyter": {
     "outputs_hidden": true,
     "source_hidden": true
    },
    "tags": []
   },
   "outputs": [
    {
     "data": {
      "text/html": [
       "<div>\n",
       "<style scoped>\n",
       "    .dataframe tbody tr th:only-of-type {\n",
       "        vertical-align: middle;\n",
       "    }\n",
       "\n",
       "    .dataframe tbody tr th {\n",
       "        vertical-align: top;\n",
       "    }\n",
       "\n",
       "    .dataframe thead th {\n",
       "        text-align: right;\n",
       "    }\n",
       "</style>\n",
       "<table border=\"1\" class=\"dataframe\">\n",
       "  <thead>\n",
       "    <tr style=\"text-align: right;\">\n",
       "      <th></th>\n",
       "      <th>id</th>\n",
       "      <th>v1</th>\n",
       "      <th>v2</th>\n",
       "      <th>v3</th>\n",
       "      <th>v4</th>\n",
       "      <th>...</th>\n",
       "      <th>v780</th>\n",
       "      <th>v781</th>\n",
       "      <th>v782</th>\n",
       "      <th>v783</th>\n",
       "      <th>v784</th>\n",
       "    </tr>\n",
       "  </thead>\n",
       "  <tbody>\n",
       "    <tr>\n",
       "      <th>0</th>\n",
       "      <td>0</td>\n",
       "      <td>0</td>\n",
       "      <td>0</td>\n",
       "      <td>0</td>\n",
       "      <td>0</td>\n",
       "      <td>...</td>\n",
       "      <td>0</td>\n",
       "      <td>0</td>\n",
       "      <td>0</td>\n",
       "      <td>0</td>\n",
       "      <td>0</td>\n",
       "    </tr>\n",
       "    <tr>\n",
       "      <th>1</th>\n",
       "      <td>1</td>\n",
       "      <td>0</td>\n",
       "      <td>0</td>\n",
       "      <td>0</td>\n",
       "      <td>0</td>\n",
       "      <td>...</td>\n",
       "      <td>0</td>\n",
       "      <td>0</td>\n",
       "      <td>0</td>\n",
       "      <td>0</td>\n",
       "      <td>0</td>\n",
       "    </tr>\n",
       "    <tr>\n",
       "      <th>2</th>\n",
       "      <td>2</td>\n",
       "      <td>0</td>\n",
       "      <td>0</td>\n",
       "      <td>0</td>\n",
       "      <td>0</td>\n",
       "      <td>...</td>\n",
       "      <td>0</td>\n",
       "      <td>0</td>\n",
       "      <td>0</td>\n",
       "      <td>0</td>\n",
       "      <td>0</td>\n",
       "    </tr>\n",
       "    <tr>\n",
       "      <th>3</th>\n",
       "      <td>3</td>\n",
       "      <td>0</td>\n",
       "      <td>0</td>\n",
       "      <td>0</td>\n",
       "      <td>0</td>\n",
       "      <td>...</td>\n",
       "      <td>0</td>\n",
       "      <td>0</td>\n",
       "      <td>0</td>\n",
       "      <td>0</td>\n",
       "      <td>0</td>\n",
       "    </tr>\n",
       "    <tr>\n",
       "      <th>4</th>\n",
       "      <td>4</td>\n",
       "      <td>0</td>\n",
       "      <td>0</td>\n",
       "      <td>0</td>\n",
       "      <td>0</td>\n",
       "      <td>...</td>\n",
       "      <td>0</td>\n",
       "      <td>0</td>\n",
       "      <td>0</td>\n",
       "      <td>0</td>\n",
       "      <td>0</td>\n",
       "    </tr>\n",
       "    <tr>\n",
       "      <th>...</th>\n",
       "      <td>...</td>\n",
       "      <td>...</td>\n",
       "      <td>...</td>\n",
       "      <td>...</td>\n",
       "      <td>...</td>\n",
       "      <td>...</td>\n",
       "      <td>...</td>\n",
       "      <td>...</td>\n",
       "      <td>...</td>\n",
       "      <td>...</td>\n",
       "      <td>...</td>\n",
       "    </tr>\n",
       "    <tr>\n",
       "      <th>4995</th>\n",
       "      <td>4995</td>\n",
       "      <td>0</td>\n",
       "      <td>0</td>\n",
       "      <td>0</td>\n",
       "      <td>0</td>\n",
       "      <td>...</td>\n",
       "      <td>0</td>\n",
       "      <td>0</td>\n",
       "      <td>0</td>\n",
       "      <td>0</td>\n",
       "      <td>0</td>\n",
       "    </tr>\n",
       "    <tr>\n",
       "      <th>4996</th>\n",
       "      <td>4996</td>\n",
       "      <td>0</td>\n",
       "      <td>0</td>\n",
       "      <td>0</td>\n",
       "      <td>0</td>\n",
       "      <td>...</td>\n",
       "      <td>0</td>\n",
       "      <td>0</td>\n",
       "      <td>0</td>\n",
       "      <td>0</td>\n",
       "      <td>0</td>\n",
       "    </tr>\n",
       "    <tr>\n",
       "      <th>4997</th>\n",
       "      <td>4997</td>\n",
       "      <td>0</td>\n",
       "      <td>0</td>\n",
       "      <td>0</td>\n",
       "      <td>0</td>\n",
       "      <td>...</td>\n",
       "      <td>0</td>\n",
       "      <td>0</td>\n",
       "      <td>0</td>\n",
       "      <td>0</td>\n",
       "      <td>0</td>\n",
       "    </tr>\n",
       "    <tr>\n",
       "      <th>4998</th>\n",
       "      <td>4998</td>\n",
       "      <td>0</td>\n",
       "      <td>0</td>\n",
       "      <td>0</td>\n",
       "      <td>0</td>\n",
       "      <td>...</td>\n",
       "      <td>0</td>\n",
       "      <td>0</td>\n",
       "      <td>0</td>\n",
       "      <td>0</td>\n",
       "      <td>0</td>\n",
       "    </tr>\n",
       "    <tr>\n",
       "      <th>4999</th>\n",
       "      <td>4999</td>\n",
       "      <td>0</td>\n",
       "      <td>0</td>\n",
       "      <td>3</td>\n",
       "      <td>1</td>\n",
       "      <td>...</td>\n",
       "      <td>152</td>\n",
       "      <td>134</td>\n",
       "      <td>44</td>\n",
       "      <td>0</td>\n",
       "      <td>0</td>\n",
       "    </tr>\n",
       "  </tbody>\n",
       "</table>\n",
       "<p>5000 rows × 785 columns</p>\n",
       "</div>"
      ],
      "text/plain": [
       "        id  v1  v2  v3  v4  ...  v780  v781  v782  v783  v784\n",
       "0        0   0   0   0   0  ...     0     0     0     0     0\n",
       "1        1   0   0   0   0  ...     0     0     0     0     0\n",
       "2        2   0   0   0   0  ...     0     0     0     0     0\n",
       "3        3   0   0   0   0  ...     0     0     0     0     0\n",
       "4        4   0   0   0   0  ...     0     0     0     0     0\n",
       "...    ...  ..  ..  ..  ..  ...   ...   ...   ...   ...   ...\n",
       "4995  4995   0   0   0   0  ...     0     0     0     0     0\n",
       "4996  4996   0   0   0   0  ...     0     0     0     0     0\n",
       "4997  4997   0   0   0   0  ...     0     0     0     0     0\n",
       "4998  4998   0   0   0   0  ...     0     0     0     0     0\n",
       "4999  4999   0   0   3   1  ...   152   134    44     0     0\n",
       "\n",
       "[5000 rows x 785 columns]"
      ]
     },
     "execution_count": 310,
     "metadata": {},
     "output_type": "execute_result"
    }
   ],
   "source": [
    "# test_input.csv includes 5000 samples used for label prediction. Test samples do not have labels.\n",
    "data_test_df = pd.read_csv('./Input/test/test_input.csv')\n",
    "data_test_df"
   ]
  },
  {
   "cell_type": "code",
   "execution_count": 311,
   "id": "f3d1542a-1d95-4f5a-ac5a-43445174f62d",
   "metadata": {
    "jupyter": {
     "source_hidden": true
    },
    "tags": []
   },
   "outputs": [],
   "source": [
    "# Data Normalisation\n",
    "skewed_feats = data_test_df.apply(lambda x: skew(x.dropna()))\n",
    "skewed_feats = skewed_feats[skewed_feats > 0.75]\n",
    "skewed_feats = skewed_feats.index\n",
    "\n",
    "data_test_df[skewed_feats] = np.log1p(data_test_df[skewed_feats])"
   ]
  },
  {
   "cell_type": "code",
   "execution_count": 312,
   "id": "65661692-9fd6-4e73-aca9-821bcc966b8b",
   "metadata": {
    "collapsed": true,
    "jupyter": {
     "outputs_hidden": true,
     "source_hidden": true
    },
    "tags": []
   },
   "outputs": [
    {
     "data": {
      "text/html": [
       "<div>\n",
       "<style scoped>\n",
       "    .dataframe tbody tr th:only-of-type {\n",
       "        vertical-align: middle;\n",
       "    }\n",
       "\n",
       "    .dataframe tbody tr th {\n",
       "        vertical-align: top;\n",
       "    }\n",
       "\n",
       "    .dataframe thead th {\n",
       "        text-align: right;\n",
       "    }\n",
       "</style>\n",
       "<table border=\"1\" class=\"dataframe\">\n",
       "  <thead>\n",
       "    <tr style=\"text-align: right;\">\n",
       "      <th></th>\n",
       "      <th>id</th>\n",
       "      <th>v1</th>\n",
       "      <th>v2</th>\n",
       "      <th>v3</th>\n",
       "      <th>v4</th>\n",
       "      <th>...</th>\n",
       "      <th>v780</th>\n",
       "      <th>v781</th>\n",
       "      <th>v782</th>\n",
       "      <th>v783</th>\n",
       "      <th>v784</th>\n",
       "    </tr>\n",
       "  </thead>\n",
       "  <tbody>\n",
       "    <tr>\n",
       "      <th>0</th>\n",
       "      <td>0</td>\n",
       "      <td>0</td>\n",
       "      <td>0.0</td>\n",
       "      <td>0.000000</td>\n",
       "      <td>0.000000</td>\n",
       "      <td>...</td>\n",
       "      <td>0.000000</td>\n",
       "      <td>0.000000</td>\n",
       "      <td>0.000000</td>\n",
       "      <td>0.0</td>\n",
       "      <td>0.0</td>\n",
       "    </tr>\n",
       "    <tr>\n",
       "      <th>1</th>\n",
       "      <td>1</td>\n",
       "      <td>0</td>\n",
       "      <td>0.0</td>\n",
       "      <td>0.000000</td>\n",
       "      <td>0.000000</td>\n",
       "      <td>...</td>\n",
       "      <td>0.000000</td>\n",
       "      <td>0.000000</td>\n",
       "      <td>0.000000</td>\n",
       "      <td>0.0</td>\n",
       "      <td>0.0</td>\n",
       "    </tr>\n",
       "    <tr>\n",
       "      <th>2</th>\n",
       "      <td>2</td>\n",
       "      <td>0</td>\n",
       "      <td>0.0</td>\n",
       "      <td>0.000000</td>\n",
       "      <td>0.000000</td>\n",
       "      <td>...</td>\n",
       "      <td>0.000000</td>\n",
       "      <td>0.000000</td>\n",
       "      <td>0.000000</td>\n",
       "      <td>0.0</td>\n",
       "      <td>0.0</td>\n",
       "    </tr>\n",
       "    <tr>\n",
       "      <th>3</th>\n",
       "      <td>3</td>\n",
       "      <td>0</td>\n",
       "      <td>0.0</td>\n",
       "      <td>0.000000</td>\n",
       "      <td>0.000000</td>\n",
       "      <td>...</td>\n",
       "      <td>0.000000</td>\n",
       "      <td>0.000000</td>\n",
       "      <td>0.000000</td>\n",
       "      <td>0.0</td>\n",
       "      <td>0.0</td>\n",
       "    </tr>\n",
       "    <tr>\n",
       "      <th>4</th>\n",
       "      <td>4</td>\n",
       "      <td>0</td>\n",
       "      <td>0.0</td>\n",
       "      <td>0.000000</td>\n",
       "      <td>0.000000</td>\n",
       "      <td>...</td>\n",
       "      <td>0.000000</td>\n",
       "      <td>0.000000</td>\n",
       "      <td>0.000000</td>\n",
       "      <td>0.0</td>\n",
       "      <td>0.0</td>\n",
       "    </tr>\n",
       "    <tr>\n",
       "      <th>...</th>\n",
       "      <td>...</td>\n",
       "      <td>...</td>\n",
       "      <td>...</td>\n",
       "      <td>...</td>\n",
       "      <td>...</td>\n",
       "      <td>...</td>\n",
       "      <td>...</td>\n",
       "      <td>...</td>\n",
       "      <td>...</td>\n",
       "      <td>...</td>\n",
       "      <td>...</td>\n",
       "    </tr>\n",
       "    <tr>\n",
       "      <th>4995</th>\n",
       "      <td>4995</td>\n",
       "      <td>0</td>\n",
       "      <td>0.0</td>\n",
       "      <td>0.000000</td>\n",
       "      <td>0.000000</td>\n",
       "      <td>...</td>\n",
       "      <td>0.000000</td>\n",
       "      <td>0.000000</td>\n",
       "      <td>0.000000</td>\n",
       "      <td>0.0</td>\n",
       "      <td>0.0</td>\n",
       "    </tr>\n",
       "    <tr>\n",
       "      <th>4996</th>\n",
       "      <td>4996</td>\n",
       "      <td>0</td>\n",
       "      <td>0.0</td>\n",
       "      <td>0.000000</td>\n",
       "      <td>0.000000</td>\n",
       "      <td>...</td>\n",
       "      <td>0.000000</td>\n",
       "      <td>0.000000</td>\n",
       "      <td>0.000000</td>\n",
       "      <td>0.0</td>\n",
       "      <td>0.0</td>\n",
       "    </tr>\n",
       "    <tr>\n",
       "      <th>4997</th>\n",
       "      <td>4997</td>\n",
       "      <td>0</td>\n",
       "      <td>0.0</td>\n",
       "      <td>0.000000</td>\n",
       "      <td>0.000000</td>\n",
       "      <td>...</td>\n",
       "      <td>0.000000</td>\n",
       "      <td>0.000000</td>\n",
       "      <td>0.000000</td>\n",
       "      <td>0.0</td>\n",
       "      <td>0.0</td>\n",
       "    </tr>\n",
       "    <tr>\n",
       "      <th>4998</th>\n",
       "      <td>4998</td>\n",
       "      <td>0</td>\n",
       "      <td>0.0</td>\n",
       "      <td>0.000000</td>\n",
       "      <td>0.000000</td>\n",
       "      <td>...</td>\n",
       "      <td>0.000000</td>\n",
       "      <td>0.000000</td>\n",
       "      <td>0.000000</td>\n",
       "      <td>0.0</td>\n",
       "      <td>0.0</td>\n",
       "    </tr>\n",
       "    <tr>\n",
       "      <th>4999</th>\n",
       "      <td>4999</td>\n",
       "      <td>0</td>\n",
       "      <td>0.0</td>\n",
       "      <td>1.386294</td>\n",
       "      <td>0.693147</td>\n",
       "      <td>...</td>\n",
       "      <td>5.030438</td>\n",
       "      <td>4.905275</td>\n",
       "      <td>3.806662</td>\n",
       "      <td>0.0</td>\n",
       "      <td>0.0</td>\n",
       "    </tr>\n",
       "  </tbody>\n",
       "</table>\n",
       "<p>5000 rows × 785 columns</p>\n",
       "</div>"
      ],
      "text/plain": [
       "        id  v1   v2        v3        v4  ...      v780      v781      v782  \\\n",
       "0        0   0  0.0  0.000000  0.000000  ...  0.000000  0.000000  0.000000   \n",
       "1        1   0  0.0  0.000000  0.000000  ...  0.000000  0.000000  0.000000   \n",
       "2        2   0  0.0  0.000000  0.000000  ...  0.000000  0.000000  0.000000   \n",
       "3        3   0  0.0  0.000000  0.000000  ...  0.000000  0.000000  0.000000   \n",
       "4        4   0  0.0  0.000000  0.000000  ...  0.000000  0.000000  0.000000   \n",
       "...    ...  ..  ...       ...       ...  ...       ...       ...       ...   \n",
       "4995  4995   0  0.0  0.000000  0.000000  ...  0.000000  0.000000  0.000000   \n",
       "4996  4996   0  0.0  0.000000  0.000000  ...  0.000000  0.000000  0.000000   \n",
       "4997  4997   0  0.0  0.000000  0.000000  ...  0.000000  0.000000  0.000000   \n",
       "4998  4998   0  0.0  0.000000  0.000000  ...  0.000000  0.000000  0.000000   \n",
       "4999  4999   0  0.0  1.386294  0.693147  ...  5.030438  4.905275  3.806662   \n",
       "\n",
       "      v783  v784  \n",
       "0      0.0   0.0  \n",
       "1      0.0   0.0  \n",
       "2      0.0   0.0  \n",
       "3      0.0   0.0  \n",
       "4      0.0   0.0  \n",
       "...    ...   ...  \n",
       "4995   0.0   0.0  \n",
       "4996   0.0   0.0  \n",
       "4997   0.0   0.0  \n",
       "4998   0.0   0.0  \n",
       "4999   0.0   0.0  \n",
       "\n",
       "[5000 rows x 785 columns]"
      ]
     },
     "execution_count": 312,
     "metadata": {},
     "output_type": "execute_result"
    }
   ],
   "source": [
    "# Filling NAs with the mean of the columns\n",
    "data_test_df = data_test_df.fillna(data_test_df.mean())\n",
    "data_test_df"
   ]
  },
  {
   "cell_type": "code",
   "execution_count": 313,
   "id": "c578f4e1-e587-4fe2-8b0f-256e12fff0bb",
   "metadata": {
    "jupyter": {
     "source_hidden": true
    },
    "tags": []
   },
   "outputs": [],
   "source": [
    "# Data Standardisation\n",
    "data_test_df = StandardScaler().fit_transform(data_test_df)"
   ]
  },
  {
   "cell_type": "code",
   "execution_count": 319,
   "id": "031776ac-9e68-44b2-b094-24939a70a370",
   "metadata": {
    "collapsed": true,
    "jupyter": {
     "outputs_hidden": true,
     "source_hidden": true
    },
    "tags": []
   },
   "outputs": [
    {
     "data": {
      "text/html": [
       "<div>\n",
       "<style scoped>\n",
       "    .dataframe tbody tr th:only-of-type {\n",
       "        vertical-align: middle;\n",
       "    }\n",
       "\n",
       "    .dataframe tbody tr th {\n",
       "        vertical-align: top;\n",
       "    }\n",
       "\n",
       "    .dataframe thead th {\n",
       "        text-align: right;\n",
       "    }\n",
       "</style>\n",
       "<table border=\"1\" class=\"dataframe\">\n",
       "  <thead>\n",
       "    <tr style=\"text-align: right;\">\n",
       "      <th></th>\n",
       "      <th>0</th>\n",
       "      <th>1</th>\n",
       "      <th>2</th>\n",
       "      <th>3</th>\n",
       "      <th>4</th>\n",
       "      <th>...</th>\n",
       "      <th>258</th>\n",
       "      <th>259</th>\n",
       "      <th>260</th>\n",
       "      <th>261</th>\n",
       "      <th>262</th>\n",
       "    </tr>\n",
       "  </thead>\n",
       "  <tbody>\n",
       "    <tr>\n",
       "      <th>0</th>\n",
       "      <td>8.040610</td>\n",
       "      <td>-14.688381</td>\n",
       "      <td>-9.427264</td>\n",
       "      <td>1.054944</td>\n",
       "      <td>0.817891</td>\n",
       "      <td>...</td>\n",
       "      <td>-0.044041</td>\n",
       "      <td>-0.056386</td>\n",
       "      <td>0.068959</td>\n",
       "      <td>0.320657</td>\n",
       "      <td>0.043497</td>\n",
       "    </tr>\n",
       "    <tr>\n",
       "      <th>1</th>\n",
       "      <td>7.921268</td>\n",
       "      <td>-15.778599</td>\n",
       "      <td>-6.802417</td>\n",
       "      <td>1.065915</td>\n",
       "      <td>1.467255</td>\n",
       "      <td>...</td>\n",
       "      <td>-0.110647</td>\n",
       "      <td>-0.360209</td>\n",
       "      <td>0.031809</td>\n",
       "      <td>0.217711</td>\n",
       "      <td>0.175438</td>\n",
       "    </tr>\n",
       "    <tr>\n",
       "      <th>2</th>\n",
       "      <td>3.847949</td>\n",
       "      <td>-16.595331</td>\n",
       "      <td>-8.146374</td>\n",
       "      <td>1.599770</td>\n",
       "      <td>-0.259265</td>\n",
       "      <td>...</td>\n",
       "      <td>0.382735</td>\n",
       "      <td>0.552876</td>\n",
       "      <td>0.142143</td>\n",
       "      <td>0.240185</td>\n",
       "      <td>-0.521700</td>\n",
       "    </tr>\n",
       "    <tr>\n",
       "      <th>3</th>\n",
       "      <td>3.021393</td>\n",
       "      <td>-10.250271</td>\n",
       "      <td>9.683223</td>\n",
       "      <td>4.025797</td>\n",
       "      <td>8.580437</td>\n",
       "      <td>...</td>\n",
       "      <td>-0.280631</td>\n",
       "      <td>-0.613245</td>\n",
       "      <td>0.281143</td>\n",
       "      <td>-0.133068</td>\n",
       "      <td>0.639369</td>\n",
       "    </tr>\n",
       "    <tr>\n",
       "      <th>4</th>\n",
       "      <td>-2.297195</td>\n",
       "      <td>-10.034817</td>\n",
       "      <td>2.079856</td>\n",
       "      <td>-0.287688</td>\n",
       "      <td>-1.263042</td>\n",
       "      <td>...</td>\n",
       "      <td>-0.591599</td>\n",
       "      <td>0.258412</td>\n",
       "      <td>0.509773</td>\n",
       "      <td>-0.109135</td>\n",
       "      <td>-1.090568</td>\n",
       "    </tr>\n",
       "    <tr>\n",
       "      <th>...</th>\n",
       "      <td>...</td>\n",
       "      <td>...</td>\n",
       "      <td>...</td>\n",
       "      <td>...</td>\n",
       "      <td>...</td>\n",
       "      <td>...</td>\n",
       "      <td>...</td>\n",
       "      <td>...</td>\n",
       "      <td>...</td>\n",
       "      <td>...</td>\n",
       "      <td>...</td>\n",
       "    </tr>\n",
       "    <tr>\n",
       "      <th>4995</th>\n",
       "      <td>9.478327</td>\n",
       "      <td>-8.540138</td>\n",
       "      <td>-1.969263</td>\n",
       "      <td>1.879643</td>\n",
       "      <td>1.208813</td>\n",
       "      <td>...</td>\n",
       "      <td>0.463470</td>\n",
       "      <td>0.360192</td>\n",
       "      <td>0.013437</td>\n",
       "      <td>-0.323847</td>\n",
       "      <td>0.045963</td>\n",
       "    </tr>\n",
       "    <tr>\n",
       "      <th>4996</th>\n",
       "      <td>5.705250</td>\n",
       "      <td>17.616976</td>\n",
       "      <td>2.040268</td>\n",
       "      <td>-3.022874</td>\n",
       "      <td>-3.670384</td>\n",
       "      <td>...</td>\n",
       "      <td>0.497729</td>\n",
       "      <td>0.364754</td>\n",
       "      <td>-0.118978</td>\n",
       "      <td>-0.246196</td>\n",
       "      <td>0.459239</td>\n",
       "    </tr>\n",
       "    <tr>\n",
       "      <th>4997</th>\n",
       "      <td>-16.818079</td>\n",
       "      <td>-2.044789</td>\n",
       "      <td>9.097246</td>\n",
       "      <td>12.586268</td>\n",
       "      <td>-1.912899</td>\n",
       "      <td>...</td>\n",
       "      <td>-0.268104</td>\n",
       "      <td>0.335385</td>\n",
       "      <td>-0.060297</td>\n",
       "      <td>-0.558562</td>\n",
       "      <td>-0.470083</td>\n",
       "    </tr>\n",
       "    <tr>\n",
       "      <th>4998</th>\n",
       "      <td>20.758710</td>\n",
       "      <td>7.239698</td>\n",
       "      <td>4.292383</td>\n",
       "      <td>3.000595</td>\n",
       "      <td>13.114309</td>\n",
       "      <td>...</td>\n",
       "      <td>0.002980</td>\n",
       "      <td>-0.450151</td>\n",
       "      <td>0.263297</td>\n",
       "      <td>0.050782</td>\n",
       "      <td>0.335594</td>\n",
       "    </tr>\n",
       "    <tr>\n",
       "      <th>4999</th>\n",
       "      <td>21.831961</td>\n",
       "      <td>16.665816</td>\n",
       "      <td>6.130393</td>\n",
       "      <td>0.551289</td>\n",
       "      <td>2.603392</td>\n",
       "      <td>...</td>\n",
       "      <td>0.396501</td>\n",
       "      <td>0.285666</td>\n",
       "      <td>0.618933</td>\n",
       "      <td>0.132605</td>\n",
       "      <td>0.230825</td>\n",
       "    </tr>\n",
       "  </tbody>\n",
       "</table>\n",
       "<p>5000 rows × 263 columns</p>\n",
       "</div>"
      ],
      "text/plain": [
       "            0          1         2          3          4    ...       258  \\\n",
       "0      8.040610 -14.688381 -9.427264   1.054944   0.817891  ... -0.044041   \n",
       "1      7.921268 -15.778599 -6.802417   1.065915   1.467255  ... -0.110647   \n",
       "2      3.847949 -16.595331 -8.146374   1.599770  -0.259265  ...  0.382735   \n",
       "3      3.021393 -10.250271  9.683223   4.025797   8.580437  ... -0.280631   \n",
       "4     -2.297195 -10.034817  2.079856  -0.287688  -1.263042  ... -0.591599   \n",
       "...         ...        ...       ...        ...        ...  ...       ...   \n",
       "4995   9.478327  -8.540138 -1.969263   1.879643   1.208813  ...  0.463470   \n",
       "4996   5.705250  17.616976  2.040268  -3.022874  -3.670384  ...  0.497729   \n",
       "4997 -16.818079  -2.044789  9.097246  12.586268  -1.912899  ... -0.268104   \n",
       "4998  20.758710   7.239698  4.292383   3.000595  13.114309  ...  0.002980   \n",
       "4999  21.831961  16.665816  6.130393   0.551289   2.603392  ...  0.396501   \n",
       "\n",
       "           259       260       261       262  \n",
       "0    -0.056386  0.068959  0.320657  0.043497  \n",
       "1    -0.360209  0.031809  0.217711  0.175438  \n",
       "2     0.552876  0.142143  0.240185 -0.521700  \n",
       "3    -0.613245  0.281143 -0.133068  0.639369  \n",
       "4     0.258412  0.509773 -0.109135 -1.090568  \n",
       "...        ...       ...       ...       ...  \n",
       "4995  0.360192  0.013437 -0.323847  0.045963  \n",
       "4996  0.364754 -0.118978 -0.246196  0.459239  \n",
       "4997  0.335385 -0.060297 -0.558562 -0.470083  \n",
       "4998 -0.450151  0.263297  0.050782  0.335594  \n",
       "4999  0.285666  0.618933  0.132605  0.230825  \n",
       "\n",
       "[5000 rows x 263 columns]"
      ]
     },
     "execution_count": 319,
     "metadata": {},
     "output_type": "execute_result"
    }
   ],
   "source": [
    "# Dimension Reduction\n",
    "pca = PCA(n_components=50)\n",
    "principalComponents_test = pca.fit_transform(data_test_df)\n",
    "principalDf_test = pd.DataFrame(data = principalComponents_test)\n",
    "principalDf_test"
   ]
  },
  {
   "cell_type": "markdown",
   "id": "f3a1b5cd-4ab0-4c35-885f-8d454b99844a",
   "metadata": {
    "tags": []
   },
   "source": [
    "KNN"
   ]
  },
  {
   "cell_type": "code",
   "execution_count": 428,
   "id": "fea1afcd-f1f5-49fb-bcf5-a2d7e8d470f2",
   "metadata": {
    "tags": []
   },
   "outputs": [],
   "source": [
    "X_train, X_test, y_train, y_test = train_test_split(\n",
    "    principalDf.to_numpy(), data_train_label, random_state=0)"
   ]
  },
  {
   "cell_type": "code",
   "execution_count": 429,
   "id": "ff95a81c-8125-4880-9c61-bb121d2a4f5e",
   "metadata": {
    "jupyter": {
     "source_hidden": true
    },
    "tags": []
   },
   "outputs": [
    {
     "name": "stdout",
     "output_type": "stream",
     "text": [
      "X_train shape: (22500, 140)\n",
      "y_train shape: (22500,)\n"
     ]
    }
   ],
   "source": [
    "print(\"X_train shape:\", X_train.shape)\n",
    "print(\"y_train shape:\", y_train.shape)"
   ]
  },
  {
   "cell_type": "code",
   "execution_count": 430,
   "id": "652c58d1-6c7c-4e35-8f64-4562c481f9b8",
   "metadata": {
    "jupyter": {
     "source_hidden": true
    },
    "tags": []
   },
   "outputs": [
    {
     "name": "stdout",
     "output_type": "stream",
     "text": [
      "X_test shape: (7500, 140)\n",
      "y_test shape: (7500,)\n"
     ]
    }
   ],
   "source": [
    "print(\"X_test shape:\", X_test.shape)\n",
    "print(\"y_test shape:\", y_test.shape)"
   ]
  },
  {
   "cell_type": "code",
   "execution_count": 431,
   "id": "63a9e582-0944-4aa6-b6ef-817ca2f211ed",
   "metadata": {
    "jupyter": {
     "source_hidden": true
    },
    "tags": []
   },
   "outputs": [],
   "source": [
    "knn = KNeighborsClassifier(n_neighbors=1)"
   ]
  },
  {
   "cell_type": "code",
   "execution_count": 432,
   "id": "a00886bc-9f67-45a9-8989-0a4b8d739a7d",
   "metadata": {
    "jupyter": {
     "source_hidden": true
    },
    "tags": []
   },
   "outputs": [
    {
     "data": {
      "text/plain": [
       "KNeighborsClassifier(n_neighbors=1)"
      ]
     },
     "execution_count": 432,
     "metadata": {},
     "output_type": "execute_result"
    }
   ],
   "source": [
    "knn.fit(X_train, y_train)"
   ]
  },
  {
   "cell_type": "code",
   "execution_count": 433,
   "id": "f6e69559-6e0a-44cc-abe1-054353078dcf",
   "metadata": {
    "jupyter": {
     "source_hidden": true
    },
    "tags": []
   },
   "outputs": [
    {
     "data": {
      "text/plain": [
       "array([5, 3, 6, ..., 9, 1, 8])"
      ]
     },
     "execution_count": 433,
     "metadata": {},
     "output_type": "execute_result"
    }
   ],
   "source": [
    "y_pred = knn.predict(X_test)\n",
    "y_pred"
   ]
  },
  {
   "cell_type": "code",
   "execution_count": 434,
   "id": "b363d3b8-0ffb-42f7-bcfd-5b62af7d5993",
   "metadata": {
    "jupyter": {
     "source_hidden": true
    },
    "tags": []
   },
   "outputs": [
    {
     "data": {
      "text/plain": [
       "0.8412"
      ]
     },
     "execution_count": 434,
     "metadata": {},
     "output_type": "execute_result"
    }
   ],
   "source": [
    "knn.score(X_test, y_test)"
   ]
  },
  {
   "cell_type": "code",
   "execution_count": 329,
   "id": "34cde0eb-e69d-47bc-92d7-90dd36f2fe07",
   "metadata": {
    "collapsed": true,
    "jupyter": {
     "outputs_hidden": true
    },
    "tags": []
   },
   "outputs": [
    {
     "name": "stdout",
     "output_type": "stream",
     "text": [
      "[0, 3, 0, 0, 4, 2, 0, 4, 9, 7, 9, 9, 8, 4, 2, 3, 0, 2, 5, 0, 6, 6, 4, 7, 0, 2, 9, 6, 9, 5, 8, 7, 8, 1, 7, 9, 2, 6, 3, 3, 2, 0, 4, 6, 3, 2, 4, 9, 0, 0, 4, 4, 9, 7, 0, 0, 7, 3, 4, 9, 4, 6, 9, 6, 9, 0, 2, 2, 9, 0, 7, 2, 3, 9, 9, 8, 5, 3, 3, 7, 6, 2, 7, 8, 5, 7, 2, 0, 7, 6, 6, 4, 0, 1, 1, 9, 4, 9, 0, 8, 7, 9, 2, 1, 0, 4, 2, 9, 2, 9, 2, 1, 9, 6, 6, 5, 0, 7, 8, 3, 2, 2, 6, 7, 9, 8, 3, 0, 1, 3, 4, 3, 7, 6, 2, 2, 7, 7, 3, 8, 2, 8, 2, 3, 8, 3, 9, 4, 0, 3, 3, 4, 4, 2, 1, 8, 2, 6, 3, 2, 1, 0, 9, 4, 6, 3, 2, 7, 9, 6, 8, 7, 1, 4, 2, 0, 1, 8, 7, 2, 7, 4, 6, 9, 7, 0, 0, 6, 5, 9, 2, 8, 9, 4, 0, 0, 7, 9, 3, 9, 7, 5, 0, 7, 7, 3, 9, 7, 0, 6, 6, 7, 7, 2, 4, 7, 3, 5, 3, 5, 9, 2, 6, 0, 0, 5, 3, 9, 7, 9, 9, 5, 7, 7, 6, 2, 7, 8, 1, 0, 0, 7, 9, 1, 0, 8, 6, 0, 3, 3, 5, 8, 7, 1, 4, 7, 0, 9, 7, 7, 4, 3, 6, 1, 2, 7, 2, 2, 6, 6, 0, 4, 7, 0, 9, 9, 3, 0, 3, 5, 7, 5, 7, 0, 5, 6, 8, 4, 6, 7, 7, 0, 9, 4, 6, 2, 4, 6, 2, 7, 4, 3, 2, 7, 4, 6, 7, 3, 4, 3, 7, 3, 2, 8, 0, 0, 3, 1, 3, 3, 2, 5, 7, 3, 9, 9, 9, 6, 6, 6, 8, 7, 7, 7, 0, 2, 6, 4, 7, 7, 6, 0, 2, 3, 3, 4, 8, 2, 2, 0, 9, 2, 6, 2, 4, 4, 7, 1, 6, 4, 3, 2, 7, 6, 8, 0, 9, 9, 0, 6, 7, 7, 7, 4, 0, 7, 0, 2, 5, 0, 3, 6, 3, 7, 8, 4, 9, 7, 4, 3, 9, 2, 9, 4, 7, 3, 9, 3, 0, 9, 1, 3, 4, 6, 0, 4, 9, 5, 6, 4, 1, 9, 0, 7, 0, 4, 0, 7, 4, 3, 3, 9, 2, 1, 3, 4, 0, 7, 1, 8, 6, 7, 4, 3, 4, 7, 0, 7, 8, 6, 9, 6, 6, 9, 0, 0, 9, 6, 2, 0, 0, 2, 7, 6, 7, 1, 0, 2, 2, 3, 3, 7, 3, 2, 7, 2, 4, 4, 4, 3, 3, 6, 1, 9, 7, 2, 0, 7, 6, 6, 6, 9, 1, 4, 6, 4, 9, 7, 9, 3, 0, 9, 7, 6, 9, 2, 5, 6, 2, 3, 2, 1, 6, 6, 7, 0, 7, 0, 4, 7, 8, 2, 9, 7, 2, 1, 6, 7, 3, 8, 8, 7, 1, 0, 9, 3, 5, 2, 7, 0, 6, 3, 5, 7, 1, 9, 8, 1, 2, 6, 7, 3, 3, 2, 0, 4, 4, 1, 6, 7, 0, 4, 3, 3, 7, 3, 3, 9, 9, 6, 0, 1, 4, 1, 7, 2, 4, 6, 5, 6, 6, 7, 1, 2, 9, 3, 9, 7, 9, 1, 4, 4, 2, 9, 2, 7, 0, 0, 6, 4, 7, 3, 6, 9, 9, 0, 2, 2, 8, 6, 4, 0, 6, 4, 7, 7, 8, 7, 0, 2, 6, 0, 8, 0, 4, 1, 1, 8, 8, 4, 9, 4, 7, 4, 0, 7, 9, 2, 0, 6, 6, 6, 6, 9, 6, 4, 6, 7, 4, 4, 1, 9, 0, 7, 1, 0, 5, 0, 8, 1, 0, 3, 9, 3, 9, 7, 1, 4, 3, 7, 0, 7, 5, 7, 8, 4, 9, 3, 1, 0, 7, 3, 5, 0, 7, 1, 8, 7, 1, 8, 9, 0, 9, 6, 2, 9, 4, 6, 7, 7, 7, 9, 7, 5, 4, 4, 4, 3, 4, 7, 8, 7, 2, 7, 2, 9, 3, 7, 4, 1, 4, 2, 2, 7, 6, 9, 4, 5, 9, 6, 7, 9, 0, 4, 4, 9, 2, 4, 4, 5, 2, 9, 2, 7, 6, 7, 7, 4, 9, 9, 0, 9, 6, 5, 4, 9, 3, 7, 2, 4, 2, 8, 0, 4, 7, 7, 8, 5, 7, 2, 8, 6, 4, 3, 9, 4, 0, 7, 7, 7, 7, 8, 2, 0, 3, 0, 7, 2, 7, 0, 7, 0, 4, 7, 0, 2, 6, 3, 9, 3, 9, 9, 8, 0, 6, 2, 9, 5, 3, 7, 7, 7, 6, 0, 7, 0, 1, 7, 8, 2, 4, 4, 2, 0, 5, 2, 0, 7, 1, 7, 1, 6, 6, 7, 8, 7, 8, 6, 2, 7, 9, 0, 9, 7, 7, 2, 4, 0, 3, 1, 0, 6, 3, 6, 4, 9, 6, 0, 6, 4, 7, 4, 2, 8, 7, 9, 7, 0, 1, 6, 3, 9, 3, 9, 7, 2, 9, 1, 0, 7, 2, 8, 7, 9, 7, 0, 7, 4, 4, 9, 7, 4, 0, 4, 2, 6, 3, 5, 5, 6, 0, 9, 6, 0, 8, 7, 9, 4, 3, 2, 9, 3, 1, 3, 9, 7, 9, 2, 3, 3, 9, 2, 1, 3, 9, 9, 8, 7, 4, 6, 5, 5, 6, 4, 0, 0, 0, 5, 2, 5, 0, 3, 6, 4, 7, 9, 9, 9, 3, 7, 3, 3, 8, 2, 0, 3, 0, 9, 6, 4, 7, 7, 0, 6, 8, 0, 9, 9, 3, 4, 0, 6, 8, 7, 3, 1, 2, 9, 7, 9, 4, 9, 6, 3, 6, 8, 7, 0, 7, 7, 6, 9, 0, 4, 5, 5, 0, 0, 7, 5, 4, 7, 4, 7, 4, 4, 2, 0, 4, 3, 2, 9, 7, 1, 4, 0, 0, 6, 1, 9, 9, 4, 8, 7, 2, 1, 8, 1, 7, 4, 9, 1, 0, 7, 0, 1, 9, 3, 4, 1, 7, 2, 0, 7, 7, 7, 9, 4, 9, 2, 0, 4, 7, 5, 7, 2, 4, 4, 3, 3, 0, 2, 0, 6, 7, 1, 4, 6, 7, 6, 2, 8, 0, 6, 9, 3, 0, 8, 3, 3, 4, 2, 6, 5, 3, 0, 0, 3, 7, 3, 4, 6, 3, 1, 9, 9, 1, 9, 0, 0, 2, 1, 4, 4, 4, 6, 6, 0, 0, 6, 9, 4, 7, 0, 6, 0, 8, 0, 3, 7, 7, 1, 4, 4, 5, 2, 3, 2, 9, 7, 6, 6, 8, 4, 6, 3, 0, 8, 3, 2, 4, 6, 1, 2, 6, 1, 9, 4, 9, 2, 4, 4, 0, 9, 0, 3, 4, 7, 4, 7, 3, 4, 1, 1, 6, 4, 1, 4, 2, 7, 2, 3, 7, 2, 2, 1, 3, 9, 0, 9, 7, 7, 6, 3, 0, 8, 2, 0, 7, 8, 6, 0, 7, 6, 3, 3, 4, 0, 7, 4, 7, 8, 6, 1, 4, 9, 4, 4, 0, 7, 9, 7, 3, 9, 6, 4, 7, 3, 5, 0, 2, 9, 7, 5, 7, 5, 0, 0, 4, 7, 7, 7, 3, 2, 9, 3, 3, 8, 2, 0, 9, 7, 9, 9, 4, 8, 5, 7, 4, 8, 6, 9, 2, 3, 4, 4, 6, 9, 9, 1, 7, 3, 6, 0, 4, 7, 0, 9, 5, 7, 9, 0, 6, 4, 3, 0, 3, 4, 3, 3, 6, 7, 4, 1, 3, 9, 1, 0, 7, 4, 0, 4, 7, 0, 3, 6, 7, 0, 8, 9, 3, 3, 2, 4, 3, 6, 8, 2, 3, 7, 2, 7, 9, 3, 3, 7, 2, 2, 2, 4, 9, 7, 8, 2, 3, 6, 4, 7, 6, 9, 3, 8, 0, 3, 3, 8, 8, 6, 1, 8, 2, 7, 4, 3, 6, 0, 7, 0, 4, 2, 6, 6, 0, 0, 0, 4, 4, 1, 1, 9, 3, 3, 0, 0, 3, 5, 8, 4, 4, 7, 9, 9, 8, 3, 0, 4, 4, 8, 0, 6, 7, 0, 7, 8, 1, 4, 4, 3, 6, 4, 8, 1, 4, 6, 0, 5, 8, 3, 0, 1, 0, 9, 4, 0, 8, 2, 6, 3, 7, 6, 2, 4, 3, 6, 6, 1, 9, 6, 3, 4, 3, 9, 7, 5, 1, 0, 3, 9, 3, 4, 7, 4, 7, 1, 7, 4, 9, 3, 8, 9, 0, 9, 0, 4, 9, 3, 6, 9, 4, 7, 1, 4, 6, 0, 0, 7, 8, 8, 1, 0, 7, 4, 4, 4, 9, 3, 9, 0, 4, 6, 0, 2, 2, 3, 7, 3, 9, 4, 3, 3, 4, 5, 7, 7, 4, 3, 0, 3, 9, 9, 0, 9, 7, 5, 3, 1, 0, 9, 9, 9, 3, 2, 1, 6, 3, 4, 0, 0, 9, 6, 6, 0, 7, 2, 6, 6, 0, 9, 4, 4, 6, 3, 6, 7, 9, 1, 9, 6, 0, 3, 1, 7, 2, 7, 1, 5, 9, 0, 3, 3, 4, 2, 9, 7, 6, 9, 1, 7, 6, 7, 8, 9, 0, 3, 4, 0, 7, 9, 9, 0, 5, 3, 4, 4, 1, 9, 9, 2, 5, 5, 5, 7, 6, 4, 0, 5, 8, 3, 1, 2, 7, 9, 1, 7, 0, 9, 5, 1, 4, 0, 9, 7, 1, 0, 9, 4, 7, 0, 7, 7, 2, 7, 0, 9, 3, 4, 1, 6, 2, 0, 0, 8, 1, 2, 1, 6, 9, 7, 4, 9, 6, 7, 0, 4, 7, 2, 5, 3, 2, 2, 5, 4, 6, 9, 4, 9, 6, 8, 3, 5, 0, 0, 9, 0, 6, 3, 3, 7, 8, 2, 3, 0, 8, 5, 6, 4, 7, 3, 4, 0, 6, 9, 7, 6, 4, 2, 3, 3, 7, 9, 7, 4, 6, 7, 3, 2, 1, 2, 6, 9, 0, 6, 7, 9, 9, 3, 2, 7, 2, 3, 7, 7, 6, 7, 4, 7, 2, 3, 7, 2, 5, 2, 6, 1, 5, 6, 0, 2, 7, 7, 6, 4, 3, 4, 4, 0, 4, 9, 3, 3, 7, 9, 6, 1, 2, 0, 9, 7, 9, 2, 8, 2, 7, 2, 6, 8, 6, 6, 4, 7, 3, 2, 0, 5, 7, 0, 2, 0, 6, 7, 3, 9, 2, 8, 1, 8, 6, 8, 6, 2, 6, 3, 3, 6, 4, 1, 9, 0, 7, 4, 4, 2, 3, 2, 6, 7, 0, 2, 5, 4, 2, 6, 5, 0, 4, 2, 3, 7, 3, 9, 1, 9, 6, 4, 5, 1, 9, 4, 9, 6, 2, 3, 6, 0, 3, 5, 0, 9, 8, 3, 0, 6, 8, 2, 3, 8, 4, 8, 4, 3, 6, 9, 2, 3, 9, 0, 4, 9, 1, 0, 4, 3, 4, 9, 3, 2, 0, 4, 2, 9, 4, 2, 3, 5, 3, 5, 7, 1, 0, 3, 2, 2, 9, 7, 7, 3, 4, 9, 0, 0, 3, 1, 6, 1, 5, 9, 3, 9, 9, 0, 3, 0, 9, 0, 1, 0, 0, 4, 7, 9, 9, 3, 1, 8, 9, 9, 7, 7, 2, 0, 7, 4, 7, 5, 9, 2, 7, 2, 2, 4, 7, 8, 5, 0, 1, 8, 9, 5, 9, 9, 8, 7, 8, 4, 2, 6, 1, 2, 3, 3, 2, 4, 2, 0, 2, 0, 1, 0, 9, 3, 3, 5, 6, 3, 3, 5, 6, 9, 1, 4, 0, 4, 9, 9, 0, 7, 2, 7, 4, 3, 7, 6, 9, 3, 3, 3, 4, 3, 0, 8, 0, 6, 9, 7, 3, 6, 6, 9, 0, 1, 4, 7, 9, 1, 9, 0, 4, 9, 4, 9, 2, 4, 9, 2, 2, 6, 8, 7, 6, 7, 7, 9, 7, 9, 3, 4, 3, 6, 7, 3, 6, 2, 2, 7, 6, 0, 4, 7, 4, 3, 7, 3, 4, 9, 3, 2, 7, 6, 2, 4, 9, 3, 4, 7, 3, 6, 3, 9, 7, 7, 8, 6, 3, 6, 3, 9, 8, 8, 7, 5, 7, 6, 1, 0, 9, 0, 3, 4, 4, 9, 6, 3, 4, 4, 0, 0, 2, 3, 2, 6, 1, 9, 4, 0, 8, 9, 0, 2, 2, 3, 2, 8, 6, 2, 2, 9, 2, 4, 2, 3, 7, 4, 7, 0, 4, 1, 9, 7, 4, 3, 0, 3, 4, 4, 0, 0, 9, 9, 8, 7, 0, 6, 0, 6, 9, 0, 9, 5, 0, 5, 3, 6, 7, 1, 7, 4, 0, 6, 0, 7, 2, 7, 9, 9, 6, 2, 1, 6, 3, 5, 9, 0, 9, 8, 3, 3, 0, 7, 0, 8, 1, 0, 0, 0, 8, 9, 4, 9, 0, 3, 7, 3, 7, 5, 7, 8, 9, 4, 4, 5, 9, 7, 0, 0, 0, 3, 7, 0, 0, 7, 8, 6, 7, 5, 2, 4, 4, 1, 2, 3, 1, 1, 7, 1, 7, 7, 1, 7, 6, 2, 0, 9, 0, 7, 7, 1, 5, 7, 2, 5, 0, 7, 0, 3, 6, 2, 6, 8, 7, 3, 1, 2, 5, 4, 1, 7, 0, 7, 8, 1, 5, 1, 0, 6, 7, 9, 3, 2, 4, 9, 3, 6, 4, 7, 9, 0, 0, 3, 0, 9, 6, 6, 7, 3, 6, 5, 3, 6, 2, 2, 3, 7, 9, 3, 9, 3, 2, 4, 3, 0, 7, 3, 5, 0, 8, 0, 3, 2, 0, 6, 7, 9, 6, 6, 9, 1, 1, 9, 7, 2, 7, 6, 3, 6, 6, 3, 8, 8, 4, 0, 7, 7, 2, 0, 8, 4, 3, 7, 9, 2, 9, 4, 4, 0, 4, 0, 8, 7, 6, 7, 6, 7, 6, 5, 6, 2, 2, 2, 6, 9, 1, 1, 7, 3, 1, 4, 6, 6, 0, 2, 7, 0, 0, 5, 3, 7, 7, 7, 9, 7, 1, 2, 3, 4, 1, 0, 7, 9, 3, 7, 8, 1, 4, 7, 0, 3, 0, 7, 9, 6, 1, 7, 3, 0, 5, 7, 1, 8, 3, 7, 3, 9, 4, 7, 0, 3, 2, 0, 7, 9, 7, 4, 4, 6, 6, 1, 8, 2, 7, 6, 6, 2, 7, 0, 0, 6, 4, 9, 6, 4, 6, 6, 9, 2, 7, 6, 6, 8, 7, 9, 0, 8, 7, 6, 7, 9, 7, 2, 0, 6, 7, 0, 3, 3, 6, 9, 6, 6, 4, 4, 9, 0, 9, 4, 7, 4, 8, 2, 3, 0, 6, 8, 9, 3, 7, 8, 2, 6, 6, 7, 1, 9, 9, 3, 1, 4, 2, 3, 7, 4, 4, 0, 7, 7, 7, 0, 6, 1, 3, 9, 6, 8, 2, 8, 8, 7, 7, 3, 7, 3, 6, 4, 9, 4, 9, 9, 2, 3, 1, 9, 3, 0, 7, 6, 0, 0, 7, 9, 9, 7, 7, 2, 7, 3, 9, 5, 4, 8, 4, 9, 4, 7, 2, 0, 0, 7, 7, 7, 6, 8, 0, 9, 6, 0, 0, 6, 7, 0, 9, 9, 3, 7, 2, 3, 4, 0, 9, 6, 0, 5, 3, 2, 3, 7, 5, 3, 2, 8, 2, 7, 6, 2, 4, 7, 5, 7, 7, 4, 9, 6, 7, 9, 4, 4, 1, 8, 3, 6, 4, 7, 0, 7, 6, 4, 4, 3, 8, 3, 7, 8, 9, 1, 8, 0, 0, 3, 9, 3, 6, 9, 5, 6, 7, 1, 6, 8, 3, 7, 2, 3, 9, 3, 7, 3, 7, 0, 9, 9, 2, 4, 0, 8, 0, 4, 0, 9, 4, 6, 3, 2, 2, 0, 2, 3, 7, 5, 9, 8, 4, 9, 6, 0, 2, 1, 9, 1, 8, 0, 5, 7, 7, 7, 7, 2, 6, 0, 0, 4, 4, 2, 6, 6, 4, 3, 6, 1, 0, 9, 1, 0, 3, 4, 3, 4, 3, 9, 3, 6, 0, 7, 7, 1, 9, 4, 4, 3, 0, 3, 9, 4, 9, 7, 4, 7, 9, 1, 9, 0, 2, 9, 3, 4, 2, 5, 0, 0, 9, 1, 5, 0, 2, 7, 9, 4, 3, 6, 4, 6, 4, 3, 6, 6, 3, 6, 7, 9, 4, 7, 3, 8, 1, 7, 9, 8, 2, 3, 4, 3, 4, 4, 0, 0, 6, 4, 6, 7, 2, 0, 4, 3, 9, 7, 1, 6, 0, 6, 9, 4, 7, 9, 3, 6, 1, 3, 0, 7, 9, 7, 3, 1, 1, 8, 4, 3, 7, 4, 7, 3, 4, 2, 7, 0, 1, 7, 0, 7, 3, 7, 6, 7, 7, 2, 0, 6, 4, 3, 6, 6, 5, 7, 2, 8, 2, 7, 6, 6, 4, 3, 7, 3, 9, 9, 4, 5, 4, 1, 4, 7, 9, 7, 4, 8, 3, 0, 2, 2, 7, 0, 4, 2, 9, 8, 0, 2, 2, 0, 9, 3, 3, 5, 3, 0, 9, 3, 3, 7, 8, 6, 4, 5, 7, 7, 4, 0, 8, 4, 6, 7, 1, 7, 7, 0, 9, 9, 9, 7, 7, 9, 4, 7, 4, 7, 6, 7, 7, 0, 5, 0, 9, 1, 7, 4, 7, 0, 6, 8, 3, 4, 9, 2, 7, 4, 2, 3, 6, 2, 0, 7, 5, 1, 2, 2, 1, 2, 2, 7, 6, 3, 9, 1, 5, 2, 0, 8, 0, 2, 8, 4, 4, 4, 8, 4, 9, 3, 7, 5, 4, 9, 9, 2, 6, 6, 7, 0, 2, 4, 2, 1, 0, 4, 3, 8, 8, 2, 7, 4, 3, 3, 8, 2, 3, 1, 0, 9, 4, 7, 9, 3, 4, 6, 7, 8, 6, 9, 4, 3, 4, 3, 0, 4, 6, 4, 4, 1, 6, 0, 7, 7, 0, 3, 0, 8, 9, 9, 8, 4, 6, 0, 9, 1, 3, 1, 5, 8, 1, 4, 1, 3, 2, 4, 9, 0, 5, 6, 9, 6, 4, 6, 2, 2, 4, 2, 0, 3, 7, 0, 0, 2, 8, 4, 2, 1, 9, 6, 5, 9, 5, 6, 2, 7, 7, 6, 0, 3, 9, 3, 1, 3, 3, 6, 6, 9, 3, 9, 1, 2, 7, 6, 0, 4, 2, 3, 1, 7, 2, 0, 7, 9, 9, 4, 0, 7, 2, 3, 1, 4, 7, 4, 4, 1, 9, 6, 3, 9, 6, 3, 0, 8, 8, 2, 7, 7, 0, 2, 4, 0, 1, 8, 7, 4, 3, 3, 7, 3, 2, 4, 7, 4, 0, 0, 3, 8, 3, 6, 0, 4, 4, 6, 7, 4, 8, 4, 4, 6, 7, 0, 2, 4, 9, 4, 9, 7, 9, 9, 9, 9, 0, 7, 9, 7, 5, 7, 9, 2, 9, 4, 7, 0, 7, 6, 9, 0, 6, 2, 2, 9, 9, 4, 5, 2, 1, 9, 6, 0, 6, 3, 6, 7, 7, 8, 0, 0, 6, 7, 7, 9, 4, 7, 6, 8, 8, 2, 0, 5, 1, 0, 7, 6, 1, 6, 6, 7, 0, 3, 6, 4, 3, 9, 5, 5, 9, 0, 1, 3, 8, 2, 4, 6, 8, 6, 8, 7, 3, 6, 6, 6, 7, 4, 3, 7, 9, 3, 2, 7, 7, 0, 3, 0, 2, 7, 1, 7, 1, 4, 6, 4, 2, 7, 6, 3, 1, 8, 1, 4, 3, 9, 3, 3, 5, 1, 4, 9, 2, 8, 1, 2, 6, 3, 8, 4, 4, 4, 4, 2, 0, 6, 2, 9, 1, 2, 7, 9, 8, 9, 0, 8, 0, 4, 9, 7, 0, 5, 9, 1, 7, 1, 9, 2, 9, 3, 4, 4, 2, 7, 7, 0, 3, 7, 3, 4, 4, 2, 9, 7, 6, 5, 4, 5, 4, 6, 5, 6, 7, 9, 1, 1, 7, 3, 3, 2, 9, 2, 7, 6, 0, 1, 3, 4, 6, 5, 7, 4, 9, 9, 9, 2, 7, 4, 9, 7, 1, 2, 2, 8, 2, 7, 0, 1, 3, 9, 4, 6, 9, 2, 1, 7, 0, 3, 0, 8, 5, 3, 1, 3, 5, 9, 7, 2, 0, 9, 6, 3, 3, 2, 3, 6, 3, 3, 3, 1, 0, 7, 6, 8, 0, 7, 3, 3, 4, 0, 6, 1, 7, 1, 9, 4, 0, 0, 1, 1, 3, 7, 0, 2, 9, 1, 9, 5, 4, 8, 9, 1, 0, 7, 3, 2, 7, 6, 2, 2, 8, 9, 0, 9, 9, 3, 6, 6, 9, 1, 7, 6, 7, 8, 2, 9, 6, 7, 7, 2, 8, 9, 0, 9, 4, 1, 2, 9, 9, 8, 4, 7, 2, 0, 2, 9, 4, 1, 6, 0, 9, 2, 4, 7, 0, 0, 5, 9, 4, 0, 2, 2, 0, 0, 8, 9, 4, 7, 0, 0, 6, 9, 6, 8, 6, 7, 2, 8, 2, 4, 0, 6, 4, 1, 3, 8, 7, 2, 5, 4, 4, 9, 3, 3, 9, 7, 9, 9, 7, 0, 7, 3, 2, 8, 6, 9, 2, 3, 1, 4, 7, 4, 7, 9, 3, 8, 3, 3, 0, 7, 0, 3, 7, 5, 3, 3, 7, 2, 0, 7, 0, 7, 0, 9, 1, 2, 0, 0, 1, 2, 0, 7, 6, 2, 0, 1, 6, 2, 7, 9, 0, 4, 9, 7, 3, 7, 9, 7, 5, 0, 6, 3, 8, 0, 6, 3, 0, 1, 9, 2, 6, 9, 6, 2, 8, 3, 0, 6, 4, 7, 2, 2, 4, 9, 4, 8, 1, 2, 0, 2, 1, 7, 1, 7, 8, 7, 6, 1, 3, 9, 8, 3, 2, 6, 2, 4, 3, 4, 2, 4, 4, 9, 9, 6, 2, 2, 3, 8, 0, 7, 7, 8, 9, 6, 9, 4, 7, 2, 9, 0, 0, 3, 2, 0, 4, 6, 1, 3, 3, 7, 4, 0, 9, 3, 2, 6, 0, 7, 2, 9, 4, 1, 2, 4, 6, 4, 7, 4, 3, 7, 2, 4, 7, 1, 5, 8, 7, 9, 4, 6, 0, 9, 4, 0, 1, 9, 9, 4, 4, 9, 1, 1, 0, 1, 7, 9, 9, 3, 6, 7, 0, 7, 8, 8, 0, 8, 9, 2, 9, 3, 5, 3, 3, 6, 7, 2, 6, 6, 7, 6, 7, 9, 7, 0, 7, 0, 0, 6, 3, 7, 7, 4, 6, 8, 5, 9, 7, 7, 4, 7, 6, 0, 3, 7, 3, 4, 2, 9, 2, 4, 4, 0, 4, 9, 7, 6, 3, 3, 7, 3, 0, 5, 9, 4, 9, 6, 0, 1, 3, 5, 2, 7, 6, 6, 0, 0, 1, 6, 8, 9, 7, 6, 1, 9, 2, 3, 9, 0, 4, 7, 1, 1, 9, 8, 0, 2, 9, 7, 2, 3, 8, 2, 3, 7, 3, 9, 9, 0, 6, 2, 1, 3, 8, 0, 6, 3, 6, 2, 6, 1, 9, 3, 8, 6, 1, 4, 6, 9, 1, 2, 1, 8, 9, 7, 9, 6, 4, 6, 2, 0, 9, 7, 4, 2, 0, 0, 1, 6, 8, 6, 6, 7, 0, 2, 9, 6, 1, 2, 6, 6, 8, 7, 2, 9, 3, 2, 2, 4, 2, 2, 7, 6, 9, 0, 3, 6, 2, 2, 0, 0, 5, 9, 3, 8, 3, 2, 9, 7, 7, 4, 4, 6, 6, 9, 1, 1, 9, 8, 2, 7, 9, 2, 4, 3, 7, 8, 9, 3, 4, 7, 1, 0, 8, 6, 9, 6, 9, 7, 7, 6, 9, 9, 0, 3, 7, 3, 9, 7, 0, 0, 0, 2, 0, 2, 7, 7, 0, 1, 9, 6, 2, 4, 4, 2, 3, 0, 6, 1, 1, 0, 0, 8, 1, 0, 6, 7, 2, 3, 7, 0, 6, 6, 9, 9, 7, 7, 0, 8, 1, 6, 0, 7, 2, 3, 0, 1, 4, 8, 4, 7, 9, 5, 8, 6, 7, 8, 7, 0, 5, 2, 7, 7, 0, 8, 7, 0, 0, 1, 0, 1, 9, 4, 7, 2, 0, 4, 7, 2, 6, 9, 2, 2, 3, 4, 6, 1, 7, 9, 8, 8, 6, 3, 0, 2, 6, 0, 7, 4, 9, 5, 9, 6, 8, 8, 0, 3, 0, 8, 8, 6, 4, 3, 3, 5, 9, 6, 6, 2, 0, 0, 5, 4, 6, 0, 2, 0, 9, 9, 6, 6, 0, 9, 6, 7, 6, 3, 8, 6, 7, 7, 3, 1, 3, 0, 4, 1, 4, 8, 6, 8, 2, 8, 5, 2, 4, 1, 3, 0, 8, 3, 7, 1, 6, 7, 7, 4, 2, 6, 9, 7, 8, 6, 8, 7, 7, 8, 3, 8, 8, 8, 3, 2, 0, 4, 1, 9, 1, 3, 2, 7, 3, 6, 4, 0, 0, 4, 9, 4, 2, 0, 0, 7, 3, 3, 0, 4, 8, 7, 1, 8, 6, 4, 3, 8, 3, 4, 3, 6, 9, 6, 4, 3, 9, 0, 3, 1, 7, 1, 4, 0, 0, 4, 7, 9, 9, 5, 2, 4, 2, 6, 4, 2, 9, 6, 7, 6, 2, 7, 2, 2, 7, 1, 2, 1, 2, 6, 0, 7, 1, 8, 9, 6, 8, 6, 7, 1, 2, 2, 6, 2, 7, 7, 9, 2, 0, 7, 3, 0, 2, 7, 2, 3, 0, 0, 6, 3, 6, 0, 6, 2, 6, 0, 7, 2, 3, 2, 8, 9, 4, 7, 6, 6, 9, 8, 6, 7, 4, 6, 4, 0, 7, 0, 8, 6, 6, 4, 6, 7, 7, 3, 6, 6, 2, 0, 3, 9, 0, 6, 7, 7, 9, 3, 5, 8, 9, 6, 3, 2, 2, 6, 9, 3, 6, 7, 6, 4, 4, 3, 7, 4, 3, 7, 4, 4, 9, 3, 0, 3, 4, 7, 3, 9, 2, 3, 2, 2, 2, 0, 0, 3, 4, 9, 0, 4, 0, 1, 4, 9, 9, 7, 7, 9, 2, 8, 1, 1, 4, 3, 2, 6, 3, 1, 3, 4, 0, 9, 0, 7, 6, 2, 7, 0, 3, 6, 1, 6, 9, 4, 6, 2, 7, 7, 7, 5, 7, 3, 6, 6, 6, 6, 0, 1, 6, 3, 6, 6, 0, 0, 8, 3, 6, 7, 4, 6, 0, 4, 4, 0, 4, 7, 4, 1, 9, 7, 7, 3, 9, 3, 7, 0, 7, 7, 0, 1, 7, 4, 9, 9, 9, 5, 4, 9, 3, 7, 0, 9, 6, 3, 0, 7, 7, 4, 3, 3, 8, 3, 0, 4, 9, 0, 0, 4, 1, 9, 4, 0, 4, 4, 8, 2, 3, 6, 1, 1, 0, 5, 0, 0, 0, 6, 0, 3, 9, 0, 8, 7, 0, 0, 4, 1, 3, 1, 2, 7, 6, 2, 7, 9, 8, 2, 1, 9, 6, 6, 0, 6, 3, 9, 8, 1, 3, 2, 1, 7, 3, 1, 9, 2, 6, 6, 9, 2, 7, 9, 9, 3, 4, 1, 4, 0, 8, 1, 7, 9, 3, 6, 6, 2, 8, 7, 3, 6, 5, 7, 2, 0, 0, 2, 3, 4, 3, 4, 6, 3, 6, 6, 7, 3, 7, 4, 3, 3, 7, 4, 1, 3, 8, 6, 4, 3, 8, 9, 4, 4, 6, 9, 0, 8, 7, 0, 6, 6, 4, 3, 0, 5, 3, 6, 0, 9, 7, 7, 6, 2, 9, 0, 3, 7, 4, 6, 9, 6, 7, 4, 1, 5, 8, 3, 0, 8, 8, 3, 1, 9, 1, 7, 6, 6, 4, 0, 7, 7, 0, 3, 9, 7, 2, 6, 2, 4, 2, 7, 7, 9, 0, 2, 4, 1, 3, 4, 0, 1, 3, 2, 7, 4, 3, 3, 2, 7, 9, 6, 6, 7, 7, 6, 0, 3, 6, 7, 8, 1, 3, 9, 4, 2, 2, 3, 9, 4, 9, 3, 2, 8, 3, 1, 9, 9, 3, 1, 3, 6, 9, 1, 7, 3, 0, 4, 4, 0, 4, 8, 4, 5, 2, 9, 0, 8, 2, 9, 7, 9, 8, 6, 9, 7, 3, 3, 8, 0, 2, 3, 9, 2, 0, 1, 0, 6, 2, 4, 3, 4, 3, 8, 1, 0, 0, 4, 7, 2, 3, 9, 2, 3, 7, 9, 4, 6, 4, 0, 6, 9, 2, 2, 7, 4, 3, 5, 7, 4, 7, 0, 2, 9, 0, 5, 6, 8, 7, 9, 2, 3, 6, 0, 6, 7, 6, 0, 9, 4, 9, 4, 2, 6, 3, 8, 8, 0, 6, 3, 5, 6, 0, 6, 5, 3, 9, 0, 2, 0, 7, 9, 2, 7, 7, 7, 5, 8, 0, 3, 8, 7, 6, 2, 1, 6, 2, 7, 3, 7, 0, 1, 7, 2, 2, 7, 4, 3, 0, 6, 4, 6, 0, 3, 6, 3, 3, 7, 0, 9, 9, 7, 2, 0, 2, 0, 6, 0, 3, 2, 3, 7, 7, 6, 2, 7, 6, 4, 9, 0, 7, 8, 7, 0, 6, 3, 0, 5, 9, 6, 7, 1, 7, 6, 8, 6, 7, 7, 0, 7, 5, 9, 5, 9, 4, 9, 1, 6, 6, 8, 7, 6, 4, 8, 7, 9, 8, 1, 4, 8, 6, 7, 7, 6, 3, 7, 3, 6, 2, 3, 0, 7, 0, 7, 4, 3, 0, 6, 2, 4, 4, 8, 2, 0, 4, 8, 5, 4, 2, 9, 1, 0, 6, 7, 7, 4, 3, 2, 9, 7, 2, 9, 3, 3, 8, 3, 6, 3, 3, 8, 2, 6, 8, 4, 0, 7, 6, 0, 6, 0, 9, 3, 0, 1, 1, 1, 0, 4, 7, 9, 7, 3, 7, 2, 6, 2, 1, 6, 5, 9, 8, 3, 4, 7, 8, 8, 6, 4, 0, 3, 3, 9, 6, 3, 9, 3, 8, 7, 7, 8, 9, 4, 0, 4, 2, 2, 9, 9, 3, 2, 6, 4, 4, 9, 3, 7, 9, 7, 2, 3, 8, 6, 9, 9, 7, 2, 3, 8, 9, 9, 7, 2, 0, 6, 2, 0, 9, 8, 8, 7, 3, 0, 1, 2, 6, 0, 4, 2, 6, 5, 9, 6, 9, 0, 5, 6, 8, 0, 3, 9, 4, 3, 7, 5, 9, 7, 9, 8, 7, 4, 6, 0, 0, 0, 1, 7, 2, 0, 9, 2, 7, 6, 7, 2, 6, 6, 2, 9, 0, 2]\n"
     ]
    }
   ],
   "source": [
    "predictions = []\n",
    "\n",
    "for i in principalDf_test.to_numpy():\n",
    "    prediction = knn.predict([list(i)])\n",
    "    predictions.append(prediction[0])"
   ]
  },
  {
   "cell_type": "code",
   "execution_count": 330,
   "id": "4f69598e-22a7-4524-9012-c6ca43782287",
   "metadata": {
    "tags": []
   },
   "outputs": [
    {
     "data": {
      "text/plain": [
       "5000"
      ]
     },
     "execution_count": 330,
     "metadata": {},
     "output_type": "execute_result"
    }
   ],
   "source": [
    "len(predictions)"
   ]
  },
  {
   "cell_type": "code",
   "execution_count": 332,
   "id": "4228337a-15f5-47b0-8970-02477b148a3e",
   "metadata": {
    "tags": []
   },
   "outputs": [
    {
     "data": {
      "text/html": [
       "<div>\n",
       "<style scoped>\n",
       "    .dataframe tbody tr th:only-of-type {\n",
       "        vertical-align: middle;\n",
       "    }\n",
       "\n",
       "    .dataframe tbody tr th {\n",
       "        vertical-align: top;\n",
       "    }\n",
       "\n",
       "    .dataframe thead th {\n",
       "        text-align: right;\n",
       "    }\n",
       "</style>\n",
       "<table border=\"1\" class=\"dataframe\">\n",
       "  <thead>\n",
       "    <tr style=\"text-align: right;\">\n",
       "      <th></th>\n",
       "      <th>id</th>\n",
       "      <th>label</th>\n",
       "    </tr>\n",
       "  </thead>\n",
       "  <tbody>\n",
       "    <tr>\n",
       "      <th>0</th>\n",
       "      <td>0</td>\n",
       "      <td>0</td>\n",
       "    </tr>\n",
       "    <tr>\n",
       "      <th>1</th>\n",
       "      <td>1</td>\n",
       "      <td>3</td>\n",
       "    </tr>\n",
       "    <tr>\n",
       "      <th>2</th>\n",
       "      <td>2</td>\n",
       "      <td>0</td>\n",
       "    </tr>\n",
       "    <tr>\n",
       "      <th>3</th>\n",
       "      <td>3</td>\n",
       "      <td>0</td>\n",
       "    </tr>\n",
       "    <tr>\n",
       "      <th>4</th>\n",
       "      <td>4</td>\n",
       "      <td>4</td>\n",
       "    </tr>\n",
       "    <tr>\n",
       "      <th>...</th>\n",
       "      <td>...</td>\n",
       "      <td>...</td>\n",
       "    </tr>\n",
       "    <tr>\n",
       "      <th>4995</th>\n",
       "      <td>4995</td>\n",
       "      <td>6</td>\n",
       "    </tr>\n",
       "    <tr>\n",
       "      <th>4996</th>\n",
       "      <td>4996</td>\n",
       "      <td>2</td>\n",
       "    </tr>\n",
       "    <tr>\n",
       "      <th>4997</th>\n",
       "      <td>4997</td>\n",
       "      <td>9</td>\n",
       "    </tr>\n",
       "    <tr>\n",
       "      <th>4998</th>\n",
       "      <td>4998</td>\n",
       "      <td>0</td>\n",
       "    </tr>\n",
       "    <tr>\n",
       "      <th>4999</th>\n",
       "      <td>4999</td>\n",
       "      <td>2</td>\n",
       "    </tr>\n",
       "  </tbody>\n",
       "</table>\n",
       "<p>5000 rows × 2 columns</p>\n",
       "</div>"
      ],
      "text/plain": [
       "        id  label\n",
       "0        0      0\n",
       "1        1      3\n",
       "2        2      0\n",
       "3        3      0\n",
       "4        4      4\n",
       "...    ...    ...\n",
       "4995  4995      6\n",
       "4996  4996      2\n",
       "4997  4997      9\n",
       "4998  4998      0\n",
       "4999  4999      2\n",
       "\n",
       "[5000 rows x 2 columns]"
      ]
     },
     "execution_count": 332,
     "metadata": {},
     "output_type": "execute_result"
    }
   ],
   "source": [
    "finaldf_test_knn_initial = pd.DataFrame(predictions)\n",
    "finaldf_test_knn_initial.insert(0, 'id', range(0,len(finaldf_test_knn_initial)))\n",
    "finaldf_test_knn_initial.columns = ['id', 'label']\n",
    "finaldf_test_knn_initial"
   ]
  },
  {
   "cell_type": "code",
   "execution_count": 333,
   "id": "74d27ef7-00f9-4111-a066-9535486902da",
   "metadata": {
    "tags": []
   },
   "outputs": [],
   "source": [
    "finaldf_test_knn_initial.to_csv('knnTestInitialPredictions.csv', index = False)"
   ]
  },
  {
   "cell_type": "markdown",
   "id": "01693676-3e2e-4ac6-9b68-def5e474ffdf",
   "metadata": {},
   "source": [
    "LOGISTIC REGRESSION"
   ]
  },
  {
   "cell_type": "code",
   "execution_count": null,
   "id": "f2473346-1eb6-4789-ba4a-452147dca965",
   "metadata": {},
   "outputs": [],
   "source": [
    "X_train, X_test, y_train, y_test = train_test_split(principalDf.to_numpy(), data_train_label, \n",
    "                                                    stratify=data_train_label, random_state=42)"
   ]
  },
  {
   "cell_type": "code",
   "execution_count": 415,
   "id": "754c3531-9065-4656-9497-d0e8e3d75632",
   "metadata": {},
   "outputs": [],
   "source": [
    "def display(X, label):\n",
    "    X0 = X[np.where(label == 0)[0]]\n",
    "    X1 = X[np.where(label == 1)[0]]\n",
    "    X2 = X[np.where(label == 2)[0]]\n",
    "    X3 = X[np.where(label == 3)[0]]\n",
    "    X4 = X[np.where(label == 4)[0]]\n",
    "    X5 = X[np.where(label == 5)[0]]\n",
    "    X6 = X[np.where(label == 6)[0]]\n",
    "    X7 = X[np.where(label == 7)[0]]\n",
    "    X8 = X[np.where(label == 8)[0]]\n",
    "    X9 = X[np.where(label == 9)[0]]\n",
    "    plt.plot(X0[:, 0], X0[:, 1], 'b^', markersize = 4, alpha = .8)\n",
    "    plt.plot(X1[:, 0], X1[:, 1], 'r^', markersize = 4, alpha = .8)\n",
    "    plt.plot(X2[:, 0], X2[:, 1], 'g^', markersize = 4, alpha = .8)\n",
    "    plt.plot(X3[:, 0], X3[:, 1], 'c^', markersize = 4, alpha = .8)\n",
    "    plt.plot(X4[:, 0], X4[:, 1], 'm^', markersize = 4, alpha = .8)\n",
    "    plt.plot(X5[:, 0], X5[:, 1], 'y^', markersize = 4, alpha = .8)\n",
    "    plt.plot(X6[:, 0], X6[:, 1], 'r*', markersize = 4, alpha = .8)\n",
    "    plt.plot(X7[:, 0], X7[:, 1], 'c*', markersize = 4, alpha = .8)\n",
    "    plt.plot(X8[:, 0], X8[:, 1], 'g*', markersize = 4, alpha = .8)\n",
    "    plt.plot(X9[:, 0], X9[:, 1], 'b*', markersize = 4, alpha = .8)\n",
    "    plt.plot()"
   ]
  },
  {
   "cell_type": "code",
   "execution_count": 416,
   "id": "4e4d570d-996b-46ca-b00b-adeedb44d9a3",
   "metadata": {},
   "outputs": [
    {
     "data": {
      "text/plain": [
       "(2229, 140)"
      ]
     },
     "execution_count": 416,
     "metadata": {},
     "output_type": "execute_result"
    }
   ],
   "source": [
    "X_train[np.where(y_train == 0)[0]].shape"
   ]
  },
  {
   "cell_type": "code",
   "execution_count": 417,
   "id": "67cd02a6-152f-4874-b7a5-d4c9117f3bc3",
   "metadata": {},
   "outputs": [
    {
     "data": {
      "image/png": "[encoded data removed]",
      "text/plain": [
       "<Figure size 432x288 with 1 Axes>"
      ]
     },
     "metadata": {
      "needs_background": "light"
     },
     "output_type": "display_data"
    }
   ],
   "source": [
    "display(X_train, y_train)\n",
    "plt.show()"
   ]
  },
  {
   "cell_type": "code",
   "execution_count": 418,
   "id": "aab9b0ff-26f4-436e-972f-1e1018c51a93",
   "metadata": {},
   "outputs": [
    {
     "name": "stdout",
     "output_type": "stream",
     "text": [
      "Accuracy on trainig set: 87.36888888888889\n",
      "Accuracy on test set: 85.02666666666666\n"
     ]
    }
   ],
   "source": [
    "logreg = LogisticRegression(max_iter = 5000)\n",
    "logreg.fit(X_train, y_train)\n",
    "print(\"Accuracy on trainig set:\", logreg.score(X_train, y_train)*100)\n",
    "print(\"Accuracy on test set:\", logreg.score(X_test, y_test)*100)"
   ]
  },
  {
   "cell_type": "markdown",
   "id": "e3770e13-cad3-4b34-aad6-c39b9f0850c3",
   "metadata": {},
   "source": [
    "Naive Bayes"
   ]
  },
  {
   "cell_type": "code",
   "execution_count": 422,
   "id": "23d0bb8d-b91b-48ab-9b8c-93d78a42edd5",
   "metadata": {},
   "outputs": [
    {
     "name": "stdout",
     "output_type": "stream",
     "text": [
      "Accuracy on test set: 0.669\n"
     ]
    }
   ],
   "source": [
    "X_train, X_test, y_train, y_test = train_test_split(principalDf.to_numpy(), data_train_label, \n",
    "                                                    stratify=data_train_label, random_state=42)\n",
    "\n",
    "nb = GaussianNB()\n",
    "nb.fit(X_train, y_train)\n",
    "y_pred = nb.predict(X_test)\n",
    "print(\"Accuracy on test set: {:.3f}\".format(accuracy_score(y_test, y_pred)))"
   ]
  },
  {
   "cell_type": "markdown",
   "id": "372df120-22c7-4610-b66f-e271db987832",
   "metadata": {},
   "source": [
    "Decision Trees"
   ]
  },
  {
   "cell_type": "code",
   "execution_count": 440,
   "id": "1f241d7a-f7b9-4e4b-a5ad-143c63f1b3a7",
   "metadata": {},
   "outputs": [
    {
     "data": {
      "text/plain": [
       "DecisionTreeClassifier(criterion='entropy', max_depth=12, random_state=42)"
      ]
     },
     "execution_count": 440,
     "metadata": {},
     "output_type": "execute_result"
    }
   ],
   "source": [
    "X_train, X_test, y_train, y_test = train_test_split(principalDf.to_numpy(), data_train_label, \n",
    "                                                    stratify=data_train_label, random_state=42)\n",
    "\n",
    "tree = DecisionTreeClassifier(criterion='entropy', max_depth=12, random_state=42)\n",
    "tree.fit(X_train, y_train)"
   ]
  },
  {
   "cell_type": "code",
   "execution_count": 490,
   "id": "48621379-a643-4a57-967b-0b6f5c2f3474",
   "metadata": {},
   "outputs": [
    {
     "name": "stdout",
     "output_type": "stream",
     "text": [
      "Depth:1 ; Accuracy:0.20066666666666666\n",
      "Depth:2 ; Accuracy:0.3564\n",
      "Depth:3 ; Accuracy:0.48133333333333334\n",
      "Depth:4 ; Accuracy:0.5986666666666667\n",
      "Depth:5 ; Accuracy:0.648\n",
      "Depth:6 ; Accuracy:0.6956\n",
      "Depth:7 ; Accuracy:0.734\n",
      "Depth:8 ; Accuracy:0.7557333333333334\n",
      "Depth:9 ; Accuracy:0.7598666666666667\n",
      "Depth:10 ; Accuracy:0.7769333333333334\n",
      "Depth:11 ; Accuracy:0.7721333333333333\n",
      "Depth:12 ; Accuracy:0.7678666666666667\n",
      "Depth:13 ; Accuracy:0.7673333333333333\n",
      "Depth:14 ; Accuracy:0.7641333333333333\n",
      "Depth:15 ; Accuracy:0.7641333333333333\n",
      "Depth:16 ; Accuracy:0.7578666666666667\n",
      "Depth:17 ; Accuracy:0.7613333333333333\n",
      "Depth:18 ; Accuracy:0.7592\n",
      "Depth:19 ; Accuracy:0.7592\n"
     ]
    }
   ],
   "source": [
    "for depth in range(1,20):\n",
    "    tree = DecisionTreeClassifier(criterion='entropy', max_depth=depth, random_state=42)\n",
    "    tree.fit(X_train, y_train)\n",
    "    print('Depth:' + str(depth) + ' ; Accuracy:' + str(tree.score(X_test, y_test)))"
   ]
  },
  {
   "cell_type": "code",
   "execution_count": 441,
   "id": "414fdeff-dbdd-4149-93d9-6f51ec0c8eeb",
   "metadata": {},
   "outputs": [
    {
     "name": "stdout",
     "output_type": "stream",
     "text": [
      "Accuracy on training set: 0.908\n",
      "Accuracy on test set: 0.776\n"
     ]
    }
   ],
   "source": [
    "# print(\"Accuracy on training set: {:.3f}\".format(tree.score(X_train, y_train)))\n",
    "# print(\"Accuracy on test set: {:.3f}\".format(tree.score(X_test, y_test)))"
   ]
  },
  {
   "cell_type": "code",
   "execution_count": 444,
   "id": "a0587969-d5a5-4a24-accd-3beebc3564a8",
   "metadata": {
    "jupyter": {
     "source_hidden": true
    },
    "tags": []
   },
   "outputs": [],
   "source": [
    "# export_graphviz(tree, out_file=\"tree.dot\", class_names=[\"T-shirt/Top\", \"Trouser\", \"Pullover\", \"Dress\", \n",
    "#                                                          \"Coat\", \"Sandal\", \"Shirt\", \"Sneaker\", \"Bag\"\n",
    "#                                                         , \"Ankle boot\"], \n",
    "#                 feature_names = principalDf.columns,impurity=False, filled=True)\n",
    "\n",
    "# # with open(\"tree.dot\") as f:\n",
    "#     dot_graph = f.read()\n",
    "# display(graphviz.Source(dot_graph))"
   ]
  },
  {
   "cell_type": "code",
   "execution_count": 445,
   "id": "b7478f77-2968-4b0c-bb45-0937f13cc144",
   "metadata": {
    "collapsed": true,
    "jupyter": {
     "outputs_hidden": true,
     "source_hidden": true
    },
    "tags": []
   },
   "outputs": [
    {
     "ename": "TypeError",
     "evalue": "display() missing 1 required positional argument: 'label'",
     "output_type": "error",
     "traceback": [
      "\u001b[0;31m---------------------------------------------------------------------------\u001b[0m",
      "\u001b[0;31mTypeError\u001b[0m                                 Traceback (most recent call last)",
      "\u001b[0;32m/var/folders/62/1h2s__497tl7y82w0kjhb63w0000gn/T/ipykernel_990/1249159071.py\u001b[0m in \u001b[0;36m<module>\u001b[0;34m\u001b[0m\n\u001b[1;32m      1\u001b[0m \u001b[0;32mwith\u001b[0m \u001b[0mopen\u001b[0m\u001b[0;34m(\u001b[0m\u001b[0;34m\"tree.dot\"\u001b[0m\u001b[0;34m)\u001b[0m \u001b[0;32mas\u001b[0m \u001b[0mf\u001b[0m\u001b[0;34m:\u001b[0m\u001b[0;34m\u001b[0m\u001b[0;34m\u001b[0m\u001b[0m\n\u001b[1;32m      2\u001b[0m     \u001b[0mdot_graph\u001b[0m \u001b[0;34m=\u001b[0m \u001b[0mf\u001b[0m\u001b[0;34m.\u001b[0m\u001b[0mread\u001b[0m\u001b[0;34m(\u001b[0m\u001b[0;34m)\u001b[0m\u001b[0;34m\u001b[0m\u001b[0;34m\u001b[0m\u001b[0m\n\u001b[0;32m----> 3\u001b[0;31m \u001b[0mdisplay\u001b[0m\u001b[0;34m(\u001b[0m\u001b[0mgraphviz\u001b[0m\u001b[0;34m.\u001b[0m\u001b[0mSource\u001b[0m\u001b[0;34m(\u001b[0m\u001b[0mdot_graph\u001b[0m\u001b[0;34m)\u001b[0m\u001b[0;34m)\u001b[0m\u001b[0;34m\u001b[0m\u001b[0;34m\u001b[0m\u001b[0m\n\u001b[0m",
      "\u001b[0;31mTypeError\u001b[0m: display() missing 1 required positional argument: 'label'"
     ]
    }
   ],
   "source": [
    "# with open(\"tree.dot\") as f:\n",
    "#     dot_graph = f.read()\n",
    "# display(graphviz.Source(dot_graph))"
   ]
  },
  {
   "cell_type": "markdown",
   "id": "cc500959-96b8-4589-a8d4-17e68fda42fe",
   "metadata": {},
   "source": [
    "SVM"
   ]
  },
  {
   "cell_type": "code",
   "execution_count": 493,
   "id": "02e18d0d-2519-4f10-b3c7-7e855c15d474",
   "metadata": {},
   "outputs": [],
   "source": [
    "X_train, X_test, y_train, y_test = train_test_split(principalDf.to_numpy(), data_train_label, \n",
    "                                                    stratify=data_train_label, random_state=42)"
   ]
  },
  {
   "cell_type": "code",
   "execution_count": 494,
   "id": "c09a1f9d-f937-42d3-846f-29fd6098887d",
   "metadata": {},
   "outputs": [
    {
     "name": "stdout",
     "output_type": "stream",
     "text": [
      "Linear SVM - accuracy on test set: 0.855\n"
     ]
    }
   ],
   "source": [
    "# SVM with Linear Kernel\n",
    "lin_svm = SVC(kernel=\"linear\")\n",
    "lin_svm.fit(X_train, y_train)\n",
    "\n",
    "y_pred = lin_svm.predict(X_test)\n",
    "print(\"Linear SVM - accuracy on test set: {:.3f}\".format(accuracy_score(y_test, y_pred)))"
   ]
  },
  {
   "cell_type": "code",
   "execution_count": 495,
   "id": "cb41a602-d61c-4712-88dc-bd0f23295f1a",
   "metadata": {},
   "outputs": [
    {
     "name": "stdout",
     "output_type": "stream",
     "text": [
      "SVM with polynomial kernel - accuracy on test set: 0.877\n"
     ]
    }
   ],
   "source": [
    "# SVM with polynomial kernel\n",
    "poly_svm = SVC(kernel=\"poly\", degree=2)#polynomial kernel with degree 2\n",
    "poly_svm.fit(X_train, y_train)\n",
    "y_pred = poly_svm.predict(X_test)\n",
    "print(\"SVM with polynomial kernel - accuracy on test set: {:.3f}\".format(accuracy_score(y_test, y_pred)))"
   ]
  },
  {
   "cell_type": "code",
   "execution_count": 496,
   "id": "3e5b0ff8-4f71-4051-8b03-fcdb23915414",
   "metadata": {},
   "outputs": [
    {
     "name": "stdout",
     "output_type": "stream",
     "text": [
      "SVM with RBF kernel - accuracy on test set: 0.867\n"
     ]
    }
   ],
   "source": [
    "# SVM with RBF kernel\n",
    "rbf_svm = SVC(kernel=\"rbf\", gamma=\"auto\")\n",
    "rbf_svm.fit(X_train, y_train)\n",
    "y_pred = rbf_svm.predict(X_test)\n",
    "print(\"SVM with RBF kernel - accuracy on test set: {:.3f}\".format(accuracy_score(y_test, y_pred)))"
   ]
  }
 ],
 "metadata": {
  "kernelspec": {
   "display_name": "Python 3 (ipykernel)",
   "language": "python",
   "name": "python3"
  },
  "language_info": {
   "codemirror_mode": {
    "name": "ipython",
    "version": 3
   },
   "file_extension": ".py",
   "mimetype": "text/x-python",
   "name": "python",
   "nbconvert_exporter": "python",
   "pygments_lexer": "ipython3",
   "version": "3.9.7"
  }
 },
 "nbformat": 4,
 "nbformat_minor": 5
}
