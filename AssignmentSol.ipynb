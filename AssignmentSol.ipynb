{
 "cells": [
  {
   "cell_type": "markdown",
   "id": "e1436aa6-7d31-41b7-a5de-9ec8bfaffc2e",
   "metadata": {},
   "source": [
    "# COMP5318 - Machine Learning and Data Mining: Assignment 1"
   ]
  },
  {
   "cell_type": "code",
   "execution_count": 64,
   "id": "39469cbb-b513-4095-a289-b5527ecf9d7b",
   "metadata": {
    "tags": []
   },
   "outputs": [
    {
     "name": "stdout",
     "output_type": "stream",
     "text": [
      "['train.csv']\n"
     ]
    }
   ],
   "source": [
    "import pandas as pd\n",
    "import os\n",
    "print(os.listdir(\"./Input/train\"))\n",
    "pd.set_option('display.max_columns', 10)\n",
    "\n",
    "import pandas as pd\n",
    "from sklearn.decomposition import PCA\n",
    "from sklearn.preprocessing import MinMaxScaler\n",
    "from sklearn.model_selection import train_test_split\n",
    "from sklearn.neighbors import KNeighborsClassifier\n",
    "from sklearn.linear_model import LogisticRegression\n",
    "from sklearn.naive_bayes import GaussianNB\n",
    "from sklearn.metrics import accuracy_score\n",
    "from sklearn.svm import SVC\n",
    "from sklearn.model_selection import GridSearchCV\n",
    "from sklearn.metrics import precision_recall_fscore_support\n",
    "from sklearn.ensemble import BaggingClassifier\n",
    "\n",
    "%matplotlib inline"
   ]
  },
  {
   "cell_type": "code",
   "execution_count": 65,
   "id": "59917d86-8cfd-4c82-97a8-b96be8059c95",
   "metadata": {
    "tags": []
   },
   "outputs": [],
   "source": [
    "# train.csv including feature and label using for training model.\n",
    "data_train_df = pd.read_csv('./Input/train/train.csv') "
   ]
  },
  {
   "cell_type": "code",
   "execution_count": 66,
   "id": "7e38e674-c209-4cae-8397-64889d743816",
   "metadata": {
    "tags": []
   },
   "outputs": [],
   "source": [
    "# Selecting input feature\n",
    "data_train_feature = data_train_df.loc[:, \"v1\":\"v784\"].to_numpy()\n",
    "\n",
    "# Selecting output lable \n",
    "data_train_label = data_train_df.label.to_numpy()"
   ]
  },
  {
   "cell_type": "code",
   "execution_count": 67,
   "id": "6cac337a",
   "metadata": {},
   "outputs": [],
   "source": [
    "# Train Test Split \n",
    "X_train, X_test, y_train, y_test = train_test_split(\n",
    "    data_train_feature, data_train_label, random_state=0, stratify=data_train_label)"
   ]
  },
  {
   "cell_type": "code",
   "execution_count": 68,
   "id": "5b7b188b",
   "metadata": {},
   "outputs": [],
   "source": [
    "# Performance Metrics Calculator Helper \n",
    "def performance(y_true, y_pred, type):\n",
    "    precision_test = precision_recall_fscore_support(y_true, y_pred, average='macro')\n",
    "    print(\"Accuracy on \" + type + \" set: {:.3f}\".format(accuracy_score(y_true, y_pred)))\n",
    "    print(\"Precision on \" + type + \" set: {:.3f}\".format(precision_test[0]))\n",
    "    print(\"Recall on \" + type + \" set: {:.3f}\".format(precision_test[1]))\n",
    "    print(\"F-Score on \" + type + \" set: {:.3f}\".format(precision_test[2]))"
   ]
  },
  {
   "cell_type": "markdown",
   "id": "50008bcf",
   "metadata": {},
   "source": [
    "## ACCURACIES BEFORE PRE-PROCESSING"
   ]
  },
  {
   "cell_type": "markdown",
   "id": "a1dce202",
   "metadata": {},
   "source": [
    "We ran the following code before pre processing to test the accuracies of various classifiers before pre processing. This is not a requirement in the assignment spec but we ran it in order to draw comparisons in the report. "
   ]
  },
  {
   "cell_type": "markdown",
   "id": "90d90e02",
   "metadata": {},
   "source": [
    "<img src=\"./static/BeforePreProcessing/knearest.png\"/>"
   ]
  },
  {
   "cell_type": "markdown",
   "id": "eb619f80",
   "metadata": {},
   "source": [
    "<img src=\"./static/BeforePreProcessing/logreg.png\"/>"
   ]
  },
  {
   "cell_type": "markdown",
   "id": "de678121",
   "metadata": {},
   "source": [
    "<img src=\"./static/BeforePreProcessing/nb.png\"/>"
   ]
  },
  {
   "cell_type": "markdown",
   "id": "7e0d0536",
   "metadata": {},
   "source": [
    "<img src=\"./static/BeforePreProcessing/svm.png\"/>"
   ]
  },
  {
   "cell_type": "markdown",
   "id": "104bdac4-361d-44e3-8972-97157aa596d2",
   "metadata": {},
   "source": [
    "## DATA PRE-PROCESSING FOR TRAINING DATA"
   ]
  },
  {
   "cell_type": "code",
   "execution_count": 69,
   "id": "e98f1fb2",
   "metadata": {},
   "outputs": [
    {
     "data": {
      "text/html": [
       "<div>\n",
       "<style scoped>\n",
       "    .dataframe tbody tr th:only-of-type {\n",
       "        vertical-align: middle;\n",
       "    }\n",
       "\n",
       "    .dataframe tbody tr th {\n",
       "        vertical-align: top;\n",
       "    }\n",
       "\n",
       "    .dataframe thead th {\n",
       "        text-align: right;\n",
       "    }\n",
       "</style>\n",
       "<table border=\"1\" class=\"dataframe\">\n",
       "  <thead>\n",
       "    <tr style=\"text-align: right;\">\n",
       "      <th></th>\n",
       "      <th>0</th>\n",
       "      <th>1</th>\n",
       "      <th>2</th>\n",
       "      <th>3</th>\n",
       "      <th>4</th>\n",
       "      <th>...</th>\n",
       "      <th>779</th>\n",
       "      <th>780</th>\n",
       "      <th>781</th>\n",
       "      <th>782</th>\n",
       "      <th>783</th>\n",
       "    </tr>\n",
       "  </thead>\n",
       "  <tbody>\n",
       "    <tr>\n",
       "      <th>0</th>\n",
       "      <td>0.0</td>\n",
       "      <td>0.0</td>\n",
       "      <td>0.0</td>\n",
       "      <td>0.0</td>\n",
       "      <td>0.0</td>\n",
       "      <td>...</td>\n",
       "      <td>0.000000</td>\n",
       "      <td>0.00</td>\n",
       "      <td>0.000000</td>\n",
       "      <td>0.0</td>\n",
       "      <td>0.0</td>\n",
       "    </tr>\n",
       "    <tr>\n",
       "      <th>1</th>\n",
       "      <td>0.0</td>\n",
       "      <td>0.0</td>\n",
       "      <td>0.0</td>\n",
       "      <td>0.0</td>\n",
       "      <td>0.0</td>\n",
       "      <td>...</td>\n",
       "      <td>0.462745</td>\n",
       "      <td>0.38</td>\n",
       "      <td>0.082353</td>\n",
       "      <td>0.0</td>\n",
       "      <td>0.0</td>\n",
       "    </tr>\n",
       "    <tr>\n",
       "      <th>2</th>\n",
       "      <td>0.0</td>\n",
       "      <td>0.0</td>\n",
       "      <td>0.0</td>\n",
       "      <td>0.0</td>\n",
       "      <td>0.0</td>\n",
       "      <td>...</td>\n",
       "      <td>0.000000</td>\n",
       "      <td>0.00</td>\n",
       "      <td>0.000000</td>\n",
       "      <td>0.0</td>\n",
       "      <td>0.0</td>\n",
       "    </tr>\n",
       "    <tr>\n",
       "      <th>3</th>\n",
       "      <td>0.0</td>\n",
       "      <td>0.0</td>\n",
       "      <td>0.0</td>\n",
       "      <td>0.0</td>\n",
       "      <td>0.0</td>\n",
       "      <td>...</td>\n",
       "      <td>0.000000</td>\n",
       "      <td>0.00</td>\n",
       "      <td>0.000000</td>\n",
       "      <td>0.0</td>\n",
       "      <td>0.0</td>\n",
       "    </tr>\n",
       "    <tr>\n",
       "      <th>4</th>\n",
       "      <td>0.0</td>\n",
       "      <td>0.0</td>\n",
       "      <td>0.0</td>\n",
       "      <td>0.0</td>\n",
       "      <td>0.0</td>\n",
       "      <td>...</td>\n",
       "      <td>0.000000</td>\n",
       "      <td>0.00</td>\n",
       "      <td>0.000000</td>\n",
       "      <td>0.0</td>\n",
       "      <td>0.0</td>\n",
       "    </tr>\n",
       "    <tr>\n",
       "      <th>...</th>\n",
       "      <td>...</td>\n",
       "      <td>...</td>\n",
       "      <td>...</td>\n",
       "      <td>...</td>\n",
       "      <td>...</td>\n",
       "      <td>...</td>\n",
       "      <td>...</td>\n",
       "      <td>...</td>\n",
       "      <td>...</td>\n",
       "      <td>...</td>\n",
       "      <td>...</td>\n",
       "    </tr>\n",
       "    <tr>\n",
       "      <th>22495</th>\n",
       "      <td>0.0</td>\n",
       "      <td>0.0</td>\n",
       "      <td>0.0</td>\n",
       "      <td>0.0</td>\n",
       "      <td>0.0</td>\n",
       "      <td>...</td>\n",
       "      <td>0.000000</td>\n",
       "      <td>0.00</td>\n",
       "      <td>0.000000</td>\n",
       "      <td>0.0</td>\n",
       "      <td>0.0</td>\n",
       "    </tr>\n",
       "    <tr>\n",
       "      <th>22496</th>\n",
       "      <td>0.0</td>\n",
       "      <td>0.0</td>\n",
       "      <td>0.0</td>\n",
       "      <td>0.0</td>\n",
       "      <td>0.0</td>\n",
       "      <td>...</td>\n",
       "      <td>0.000000</td>\n",
       "      <td>0.00</td>\n",
       "      <td>0.000000</td>\n",
       "      <td>0.0</td>\n",
       "      <td>0.0</td>\n",
       "    </tr>\n",
       "    <tr>\n",
       "      <th>22497</th>\n",
       "      <td>0.0</td>\n",
       "      <td>0.0</td>\n",
       "      <td>0.0</td>\n",
       "      <td>0.0</td>\n",
       "      <td>0.0</td>\n",
       "      <td>...</td>\n",
       "      <td>0.000000</td>\n",
       "      <td>0.00</td>\n",
       "      <td>0.000000</td>\n",
       "      <td>0.0</td>\n",
       "      <td>0.0</td>\n",
       "    </tr>\n",
       "    <tr>\n",
       "      <th>22498</th>\n",
       "      <td>0.0</td>\n",
       "      <td>0.0</td>\n",
       "      <td>0.0</td>\n",
       "      <td>0.0</td>\n",
       "      <td>0.0</td>\n",
       "      <td>...</td>\n",
       "      <td>0.000000</td>\n",
       "      <td>0.00</td>\n",
       "      <td>0.000000</td>\n",
       "      <td>0.0</td>\n",
       "      <td>0.0</td>\n",
       "    </tr>\n",
       "    <tr>\n",
       "      <th>22499</th>\n",
       "      <td>0.0</td>\n",
       "      <td>0.0</td>\n",
       "      <td>0.0</td>\n",
       "      <td>0.0</td>\n",
       "      <td>0.0</td>\n",
       "      <td>...</td>\n",
       "      <td>0.203922</td>\n",
       "      <td>0.00</td>\n",
       "      <td>0.000000</td>\n",
       "      <td>0.0</td>\n",
       "      <td>0.0</td>\n",
       "    </tr>\n",
       "  </tbody>\n",
       "</table>\n",
       "<p>22500 rows × 784 columns</p>\n",
       "</div>"
      ],
      "text/plain": [
       "       0    1    2    3    4    ...       779   780       781  782  783\n",
       "0      0.0  0.0  0.0  0.0  0.0  ...  0.000000  0.00  0.000000  0.0  0.0\n",
       "1      0.0  0.0  0.0  0.0  0.0  ...  0.462745  0.38  0.082353  0.0  0.0\n",
       "2      0.0  0.0  0.0  0.0  0.0  ...  0.000000  0.00  0.000000  0.0  0.0\n",
       "3      0.0  0.0  0.0  0.0  0.0  ...  0.000000  0.00  0.000000  0.0  0.0\n",
       "4      0.0  0.0  0.0  0.0  0.0  ...  0.000000  0.00  0.000000  0.0  0.0\n",
       "...    ...  ...  ...  ...  ...  ...       ...   ...       ...  ...  ...\n",
       "22495  0.0  0.0  0.0  0.0  0.0  ...  0.000000  0.00  0.000000  0.0  0.0\n",
       "22496  0.0  0.0  0.0  0.0  0.0  ...  0.000000  0.00  0.000000  0.0  0.0\n",
       "22497  0.0  0.0  0.0  0.0  0.0  ...  0.000000  0.00  0.000000  0.0  0.0\n",
       "22498  0.0  0.0  0.0  0.0  0.0  ...  0.000000  0.00  0.000000  0.0  0.0\n",
       "22499  0.0  0.0  0.0  0.0  0.0  ...  0.203922  0.00  0.000000  0.0  0.0\n",
       "\n",
       "[22500 rows x 784 columns]"
      ]
     },
     "execution_count": 69,
     "metadata": {},
     "output_type": "execute_result"
    }
   ],
   "source": [
    "# Normalisation\n",
    "scaler = MinMaxScaler()\n",
    "scaler.fit(X_train)\n",
    "\n",
    "X_train_norm = scaler.transform(X_train)\n",
    "X_test_norm  = scaler.transform(X_test)\n",
    "\n",
    "pd.DataFrame(X_train_norm)"
   ]
  },
  {
   "cell_type": "code",
   "execution_count": 70,
   "id": "d3c0d7b6",
   "metadata": {},
   "outputs": [
    {
     "data": {
      "text/html": [
       "<div>\n",
       "<style scoped>\n",
       "    .dataframe tbody tr th:only-of-type {\n",
       "        vertical-align: middle;\n",
       "    }\n",
       "\n",
       "    .dataframe tbody tr th {\n",
       "        vertical-align: top;\n",
       "    }\n",
       "\n",
       "    .dataframe thead th {\n",
       "        text-align: right;\n",
       "    }\n",
       "</style>\n",
       "<table border=\"1\" class=\"dataframe\">\n",
       "  <thead>\n",
       "    <tr style=\"text-align: right;\">\n",
       "      <th></th>\n",
       "      <th>0</th>\n",
       "      <th>1</th>\n",
       "      <th>2</th>\n",
       "      <th>3</th>\n",
       "      <th>4</th>\n",
       "      <th>...</th>\n",
       "      <th>79</th>\n",
       "      <th>80</th>\n",
       "      <th>81</th>\n",
       "      <th>82</th>\n",
       "      <th>83</th>\n",
       "    </tr>\n",
       "  </thead>\n",
       "  <tbody>\n",
       "    <tr>\n",
       "      <th>0</th>\n",
       "      <td>2.927449</td>\n",
       "      <td>-5.553593</td>\n",
       "      <td>4.019518</td>\n",
       "      <td>-1.395135</td>\n",
       "      <td>1.064630</td>\n",
       "      <td>...</td>\n",
       "      <td>-0.011555</td>\n",
       "      <td>-0.025837</td>\n",
       "      <td>-0.095283</td>\n",
       "      <td>-0.109759</td>\n",
       "      <td>-0.024098</td>\n",
       "    </tr>\n",
       "    <tr>\n",
       "      <th>1</th>\n",
       "      <td>1.992421</td>\n",
       "      <td>0.442999</td>\n",
       "      <td>-2.368003</td>\n",
       "      <td>0.811313</td>\n",
       "      <td>-1.177249</td>\n",
       "      <td>...</td>\n",
       "      <td>-0.479448</td>\n",
       "      <td>0.015362</td>\n",
       "      <td>-0.228318</td>\n",
       "      <td>-0.181703</td>\n",
       "      <td>-0.037604</td>\n",
       "    </tr>\n",
       "    <tr>\n",
       "      <th>2</th>\n",
       "      <td>2.916436</td>\n",
       "      <td>-4.533643</td>\n",
       "      <td>2.285697</td>\n",
       "      <td>-2.685905</td>\n",
       "      <td>0.292165</td>\n",
       "      <td>...</td>\n",
       "      <td>-0.053102</td>\n",
       "      <td>0.513047</td>\n",
       "      <td>-0.128389</td>\n",
       "      <td>0.073825</td>\n",
       "      <td>-0.079035</td>\n",
       "    </tr>\n",
       "    <tr>\n",
       "      <th>3</th>\n",
       "      <td>-6.189816</td>\n",
       "      <td>1.348044</td>\n",
       "      <td>-0.645078</td>\n",
       "      <td>-2.423576</td>\n",
       "      <td>1.313570</td>\n",
       "      <td>...</td>\n",
       "      <td>-0.153498</td>\n",
       "      <td>-0.184887</td>\n",
       "      <td>0.326095</td>\n",
       "      <td>0.042007</td>\n",
       "      <td>-0.248368</td>\n",
       "    </tr>\n",
       "    <tr>\n",
       "      <th>4</th>\n",
       "      <td>-2.974141</td>\n",
       "      <td>-4.625361</td>\n",
       "      <td>1.107169</td>\n",
       "      <td>0.583185</td>\n",
       "      <td>0.232016</td>\n",
       "      <td>...</td>\n",
       "      <td>0.265475</td>\n",
       "      <td>0.093921</td>\n",
       "      <td>0.410109</td>\n",
       "      <td>0.028499</td>\n",
       "      <td>0.002914</td>\n",
       "    </tr>\n",
       "    <tr>\n",
       "      <th>...</th>\n",
       "      <td>...</td>\n",
       "      <td>...</td>\n",
       "      <td>...</td>\n",
       "      <td>...</td>\n",
       "      <td>...</td>\n",
       "      <td>...</td>\n",
       "      <td>...</td>\n",
       "      <td>...</td>\n",
       "      <td>...</td>\n",
       "      <td>...</td>\n",
       "      <td>...</td>\n",
       "    </tr>\n",
       "    <tr>\n",
       "      <th>22495</th>\n",
       "      <td>1.257244</td>\n",
       "      <td>5.409011</td>\n",
       "      <td>5.380687</td>\n",
       "      <td>3.621838</td>\n",
       "      <td>-2.909050</td>\n",
       "      <td>...</td>\n",
       "      <td>-0.069430</td>\n",
       "      <td>0.024253</td>\n",
       "      <td>-0.329398</td>\n",
       "      <td>-0.153290</td>\n",
       "      <td>0.420994</td>\n",
       "    </tr>\n",
       "    <tr>\n",
       "      <th>22496</th>\n",
       "      <td>1.754955</td>\n",
       "      <td>-4.031853</td>\n",
       "      <td>0.866494</td>\n",
       "      <td>-0.421730</td>\n",
       "      <td>0.518514</td>\n",
       "      <td>...</td>\n",
       "      <td>-0.398757</td>\n",
       "      <td>-0.208873</td>\n",
       "      <td>0.206416</td>\n",
       "      <td>-0.112603</td>\n",
       "      <td>0.073324</td>\n",
       "    </tr>\n",
       "    <tr>\n",
       "      <th>22497</th>\n",
       "      <td>-6.374198</td>\n",
       "      <td>0.561054</td>\n",
       "      <td>-0.780198</td>\n",
       "      <td>-2.838871</td>\n",
       "      <td>1.389735</td>\n",
       "      <td>...</td>\n",
       "      <td>0.245362</td>\n",
       "      <td>0.187905</td>\n",
       "      <td>-0.085312</td>\n",
       "      <td>-0.223798</td>\n",
       "      <td>-0.003016</td>\n",
       "    </tr>\n",
       "    <tr>\n",
       "      <th>22498</th>\n",
       "      <td>-5.730576</td>\n",
       "      <td>2.660773</td>\n",
       "      <td>-0.073577</td>\n",
       "      <td>-3.724108</td>\n",
       "      <td>1.928655</td>\n",
       "      <td>...</td>\n",
       "      <td>0.021028</td>\n",
       "      <td>0.012773</td>\n",
       "      <td>0.234765</td>\n",
       "      <td>0.361081</td>\n",
       "      <td>0.209532</td>\n",
       "    </tr>\n",
       "    <tr>\n",
       "      <th>22499</th>\n",
       "      <td>7.419908</td>\n",
       "      <td>2.280146</td>\n",
       "      <td>-1.712024</td>\n",
       "      <td>-0.641199</td>\n",
       "      <td>-0.133754</td>\n",
       "      <td>...</td>\n",
       "      <td>-0.154405</td>\n",
       "      <td>-0.063361</td>\n",
       "      <td>-0.290396</td>\n",
       "      <td>0.080756</td>\n",
       "      <td>-0.297374</td>\n",
       "    </tr>\n",
       "  </tbody>\n",
       "</table>\n",
       "<p>22500 rows × 84 columns</p>\n",
       "</div>"
      ],
      "text/plain": [
       "             0         1         2         3         4   ...        79  \\\n",
       "0      2.927449 -5.553593  4.019518 -1.395135  1.064630  ... -0.011555   \n",
       "1      1.992421  0.442999 -2.368003  0.811313 -1.177249  ... -0.479448   \n",
       "2      2.916436 -4.533643  2.285697 -2.685905  0.292165  ... -0.053102   \n",
       "3     -6.189816  1.348044 -0.645078 -2.423576  1.313570  ... -0.153498   \n",
       "4     -2.974141 -4.625361  1.107169  0.583185  0.232016  ...  0.265475   \n",
       "...         ...       ...       ...       ...       ...  ...       ...   \n",
       "22495  1.257244  5.409011  5.380687  3.621838 -2.909050  ... -0.069430   \n",
       "22496  1.754955 -4.031853  0.866494 -0.421730  0.518514  ... -0.398757   \n",
       "22497 -6.374198  0.561054 -0.780198 -2.838871  1.389735  ...  0.245362   \n",
       "22498 -5.730576  2.660773 -0.073577 -3.724108  1.928655  ...  0.021028   \n",
       "22499  7.419908  2.280146 -1.712024 -0.641199 -0.133754  ... -0.154405   \n",
       "\n",
       "             80        81        82        83  \n",
       "0     -0.025837 -0.095283 -0.109759 -0.024098  \n",
       "1      0.015362 -0.228318 -0.181703 -0.037604  \n",
       "2      0.513047 -0.128389  0.073825 -0.079035  \n",
       "3     -0.184887  0.326095  0.042007 -0.248368  \n",
       "4      0.093921  0.410109  0.028499  0.002914  \n",
       "...         ...       ...       ...       ...  \n",
       "22495  0.024253 -0.329398 -0.153290  0.420994  \n",
       "22496 -0.208873  0.206416 -0.112603  0.073324  \n",
       "22497  0.187905 -0.085312 -0.223798 -0.003016  \n",
       "22498  0.012773  0.234765  0.361081  0.209532  \n",
       "22499 -0.063361 -0.290396  0.080756 -0.297374  \n",
       "\n",
       "[22500 rows x 84 columns]"
      ]
     },
     "execution_count": 70,
     "metadata": {},
     "output_type": "execute_result"
    }
   ],
   "source": [
    "# Dimension Reduction\n",
    "pca = PCA(n_components=0.9).fit(X_train_norm)\n",
    "\n",
    "X_train_pca = pca.transform(X_train_norm)\n",
    "X_test_pca = pca.transform(X_test_norm)\n",
    "\n",
    "pd.DataFrame(X_train_pca)"
   ]
  },
  {
   "cell_type": "markdown",
   "id": "f3a1b5cd-4ab0-4c35-885f-8d454b99844a",
   "metadata": {
    "tags": []
   },
   "source": [
    "## KNN"
   ]
  },
  {
   "cell_type": "markdown",
   "id": "47bb5fe8",
   "metadata": {},
   "source": [
    "### After Pre-Processing"
   ]
  },
  {
   "cell_type": "code",
   "execution_count": 71,
   "id": "f83d6149",
   "metadata": {},
   "outputs": [
    {
     "name": "stdout",
     "output_type": "stream",
     "text": [
      "Accuracy on test set: 0.850\n",
      "Precision on test set: 0.851\n",
      "Recall on test set: 0.850\n",
      "F-Score on test set: 0.850\n",
      "Accuracy on train set: 0.895\n",
      "Precision on train set: 0.895\n",
      "Recall on train set: 0.895\n",
      "F-Score on train set: 0.894\n",
      "CPU times: user 16.6 s, sys: 6.73 s, total: 23.4 s\n",
      "Wall time: 15.4 s\n"
     ]
    }
   ],
   "source": [
    "%%time\n",
    "# Accuracy of default KNN classifier after pre processing \n",
    "knn = KNeighborsClassifier()\n",
    "knn.fit(X_train_pca, y_train)\n",
    "\n",
    "y_pred = knn.predict(X_test_pca)\n",
    "y_pred_train = knn.predict(X_train_pca)\n",
    "performance(y_test, y_pred, 'test')\n",
    "performance(y_train, y_pred_train, 'train')"
   ]
  },
  {
   "cell_type": "markdown",
   "id": "2086ce28",
   "metadata": {},
   "source": [
    "### Parameter Tuning"
   ]
  },
  {
   "cell_type": "markdown",
   "id": "05d63c8f",
   "metadata": {},
   "source": [
    "<img src=\"./static/ParameterTuning/knearest.png\"/>"
   ]
  },
  {
   "cell_type": "code",
   "execution_count": 72,
   "id": "a5730248",
   "metadata": {},
   "outputs": [
    {
     "name": "stdout",
     "output_type": "stream",
     "text": [
      "Accuracy on test set: 0.851\n",
      "Precision on test set: 0.852\n",
      "Recall on test set: 0.851\n",
      "F-Score on test set: 0.851\n",
      "Accuracy on train set: 0.898\n",
      "Precision on train set: 0.899\n",
      "Recall on train set: 0.898\n",
      "F-Score on train set: 0.898\n",
      "CPU times: user 52.6 s, sys: 3.88 s, total: 56.5 s\n",
      "Wall time: 56.9 s\n"
     ]
    }
   ],
   "source": [
    "%%time\n",
    "# Create a KNN Classifier using best parameters \n",
    "knn = KNeighborsClassifier(p=1)\n",
    "knn.fit(X_train_pca, y_train)\n",
    "\n",
    "y_pred = knn.predict(X_test_pca)\n",
    "y_pred_train = knn.predict(X_train_pca)\n",
    "performance(y_test, y_pred, 'test')\n",
    "performance(y_train, y_pred_train, 'train')"
   ]
  },
  {
   "cell_type": "markdown",
   "id": "01693676-3e2e-4ac6-9b68-def5e474ffdf",
   "metadata": {},
   "source": [
    "## LOGISTIC REGRESSION"
   ]
  },
  {
   "cell_type": "markdown",
   "id": "20912989",
   "metadata": {},
   "source": [
    "### After pre-processing "
   ]
  },
  {
   "cell_type": "code",
   "execution_count": 73,
   "id": "aab9b0ff-26f4-436e-972f-1e1018c51a93",
   "metadata": {},
   "outputs": [
    {
     "name": "stdout",
     "output_type": "stream",
     "text": [
      "Accuracy on test set: 0.843\n",
      "Precision on test set: 0.842\n",
      "Recall on test set: 0.843\n",
      "F-Score on test set: 0.842\n",
      "Accuracy on train set: 0.854\n",
      "Precision on train set: 0.853\n",
      "Recall on train set: 0.854\n",
      "F-Score on train set: 0.853\n",
      "CPU times: user 34.3 s, sys: 3.37 s, total: 37.7 s\n",
      "Wall time: 9.59 s\n"
     ]
    }
   ],
   "source": [
    "%%time\n",
    "# Accuracy of default LogReg Classifier after pre processing \n",
    "logreg = LogisticRegression(max_iter = 5000)\n",
    "logreg.fit(X_train_pca, y_train)\n",
    "\n",
    "y_pred = logreg.predict(X_test_pca)\n",
    "y_pred_train = logreg.predict(X_train_pca)\n",
    "performance(y_test, y_pred, 'test')\n",
    "performance(y_train, y_pred_train, 'train')"
   ]
  },
  {
   "cell_type": "markdown",
   "id": "6dc6df5f",
   "metadata": {},
   "source": [
    "### Parameter Tuning"
   ]
  },
  {
   "cell_type": "markdown",
   "id": "846d8aac",
   "metadata": {},
   "source": [
    "<img src=\"./static/ParameterTuning/logreg.png\"/>"
   ]
  },
  {
   "cell_type": "markdown",
   "id": "291ad55f",
   "metadata": {},
   "source": [
    "No need for creating the best classifier after parameter tuning because, as seen above, the default parameters are already the best ones for LogisticRegression. "
   ]
  },
  {
   "cell_type": "markdown",
   "id": "e3770e13-cad3-4b34-aad6-c39b9f0850c3",
   "metadata": {},
   "source": [
    "## NAIVE BAYES"
   ]
  },
  {
   "cell_type": "markdown",
   "id": "cec0b5ef",
   "metadata": {},
   "source": [
    "### After pre-processing"
   ]
  },
  {
   "cell_type": "code",
   "execution_count": 74,
   "id": "23d0bb8d-b91b-48ab-9b8c-93d78a42edd5",
   "metadata": {},
   "outputs": [
    {
     "name": "stdout",
     "output_type": "stream",
     "text": [
      "Accuracy on test set: 0.771\n",
      "Precision on test set: 0.778\n",
      "Recall on test set: 0.771\n",
      "F-Score on test set: 0.772\n",
      "Accuracy on train set: 0.773\n",
      "Precision on train set: 0.778\n",
      "Recall on train set: 0.773\n",
      "F-Score on train set: 0.773\n",
      "CPU times: user 184 ms, sys: 44.6 ms, total: 228 ms\n",
      "Wall time: 178 ms\n"
     ]
    }
   ],
   "source": [
    "%%time\n",
    "# Accuracy of default NB Classifier after pre processing \n",
    "nb = GaussianNB()\n",
    "nb.fit(X_train_pca, y_train)\n",
    "\n",
    "y_pred = nb.predict(X_test_pca)\n",
    "y_pred_train = nb.predict(X_train_pca)\n",
    "performance(y_test, y_pred, 'test')\n",
    "performance(y_train, y_pred_train, 'train')"
   ]
  },
  {
   "cell_type": "markdown",
   "id": "9dae2b56",
   "metadata": {},
   "source": [
    "### Parameter Tuning"
   ]
  },
  {
   "cell_type": "markdown",
   "id": "ca947261",
   "metadata": {},
   "source": [
    "<img src=\"./static/ParameterTuning/nb.png\"/>"
   ]
  },
  {
   "cell_type": "code",
   "execution_count": 75,
   "id": "e35c060b",
   "metadata": {},
   "outputs": [
    {
     "name": "stdout",
     "output_type": "stream",
     "text": [
      "Accuracy on test set: 0.772\n",
      "Precision on test set: 0.780\n",
      "Recall on test set: 0.772\n",
      "F-Score on test set: 0.774\n",
      "Accuracy on train set: 0.774\n",
      "Precision on train set: 0.781\n",
      "Recall on train set: 0.774\n",
      "F-Score on train set: 0.775\n",
      "CPU times: user 139 ms, sys: 32.4 ms, total: 171 ms\n",
      "Wall time: 170 ms\n"
     ]
    }
   ],
   "source": [
    "%%time\n",
    "# Create a NB Classifier using best parameters and check accuracy \n",
    "nb = GaussianNB(var_smoothing=0.0002848035868435802)\n",
    "nb.fit(X_train_pca, y_train)\n",
    "\n",
    "y_pred = nb.predict(X_test_pca)\n",
    "y_pred_train = nb.predict(X_train_pca)\n",
    "performance(y_test, y_pred, 'test')\n",
    "performance(y_train, y_pred_train, 'train')"
   ]
  },
  {
   "cell_type": "markdown",
   "id": "224952f4",
   "metadata": {},
   "source": [
    "## SVM"
   ]
  },
  {
   "cell_type": "markdown",
   "id": "3afaa489",
   "metadata": {},
   "source": [
    "### After pre-processing"
   ]
  },
  {
   "cell_type": "code",
   "execution_count": 76,
   "id": "2d2f7f00",
   "metadata": {},
   "outputs": [
    {
     "name": "stdout",
     "output_type": "stream",
     "text": [
      "Accuracy on test set: 0.878\n",
      "Precision on test set: 0.877\n",
      "Recall on test set: 0.878\n",
      "F-Score on test set: 0.877\n",
      "Accuracy on train set: 0.898\n",
      "Precision on train set: 0.898\n",
      "Recall on train set: 0.898\n",
      "F-Score on train set: 0.898\n",
      "CPU times: user 1min 9s, sys: 389 ms, total: 1min 9s\n",
      "Wall time: 1min 10s\n"
     ]
    }
   ],
   "source": [
    "%%time\n",
    "# Accuracy of default SVC classifier after pre-processing \n",
    "svm = SVC() \n",
    "svm.fit(X_train_pca, y_train)\n",
    "\n",
    "y_pred = svm.predict(X_test_pca)\n",
    "y_pred_train = svm.predict(X_train_pca)\n",
    "performance(y_test, y_pred, 'test')\n",
    "performance(y_train, y_pred_train, 'train')"
   ]
  },
  {
   "cell_type": "markdown",
   "id": "3b374f1d",
   "metadata": {},
   "source": [
    "### Parameter Tuning"
   ]
  },
  {
   "cell_type": "markdown",
   "id": "a04391fc",
   "metadata": {},
   "source": [
    "<img src=\"./static/ParameterTuning/svm.png\"/>"
   ]
  },
  {
   "cell_type": "code",
   "execution_count": 77,
   "id": "f9bc7fca",
   "metadata": {},
   "outputs": [
    {
     "name": "stdout",
     "output_type": "stream",
     "text": [
      "Accuracy on test set: 0.887\n",
      "Precision on test set: 0.886\n",
      "Recall on test set: 0.887\n",
      "F-Score on test set: 0.886\n",
      "Accuracy on train set: 0.934\n",
      "Precision on train set: 0.934\n",
      "Recall on train set: 0.934\n",
      "F-Score on train set: 0.933\n",
      "CPU times: user 1min, sys: 397 ms, total: 1min\n",
      "Wall time: 1min 1s\n"
     ]
    }
   ],
   "source": [
    "%%time\n",
    "# Create a SVM Classifier using best parameters \n",
    "svm = SVC(C=10, gamma=0.01)\n",
    "svm.fit(X_train_pca, y_train)\n",
    "\n",
    "y_pred = svm.predict(X_test_pca)\n",
    "y_pred_train = svm.predict(X_train_pca)\n",
    "performance(y_test, y_pred, 'test')\n",
    "performance(y_train, y_pred_train, 'train')"
   ]
  },
  {
   "cell_type": "markdown",
   "id": "fd84327f",
   "metadata": {},
   "source": [
    "## BAGGING (SVM)"
   ]
  },
  {
   "cell_type": "markdown",
   "id": "6611455c",
   "metadata": {},
   "source": [
    "<img src=\"./static/ParameterTuning/bagging.png\"/>"
   ]
  },
  {
   "cell_type": "code",
   "execution_count": 78,
   "id": "2c221492",
   "metadata": {},
   "outputs": [
    {
     "name": "stdout",
     "output_type": "stream",
     "text": [
      "Accuracy on test set: 0.887\n",
      "Precision on test set: 0.886\n",
      "Recall on test set: 0.887\n",
      "F-Score on test set: 0.886\n",
      "Accuracy on train set: 0.934\n",
      "Precision on train set: 0.934\n",
      "Recall on train set: 0.934\n",
      "F-Score on train set: 0.933\n",
      "CPU times: user 2min, sys: 891 ms, total: 2min\n",
      "Wall time: 2min 2s\n"
     ]
    }
   ],
   "source": [
    "%%time\n",
    "# Using bagging Ensemble on a set of SVCs with best parameters \n",
    "bclf = BaggingClassifier(base_estimator=SVC(C=10, gamma=0.01), \n",
    "    bootstrap=False, n_estimators=2).fit(X_train_pca, y_train)\n",
    "\n",
    "y_pred = bclf.predict(X_test_pca)\n",
    "y_pred_train = bclf.predict(X_train_pca)\n",
    "performance(y_test, y_pred, 'test')\n",
    "performance(y_train, y_pred_train, 'train')"
   ]
  },
  {
   "cell_type": "markdown",
   "id": "ce78284f",
   "metadata": {},
   "source": [
    "## PERFORMANCE COMPARISON OF CLASSIFIERS"
   ]
  },
  {
   "cell_type": "markdown",
   "id": "bd99f17c",
   "metadata": {},
   "source": [
    "<p align=\"center\">\n",
    "    <img src=\"./static/Performance/all_metrics.jpg\"/>\n",
    "</p>"
   ]
  },
  {
   "cell_type": "markdown",
   "id": "8a86e592",
   "metadata": {},
   "source": [
    "<br>"
   ]
  },
  {
   "cell_type": "markdown",
   "id": "c393b367",
   "metadata": {},
   "source": [
    "<p align=\"center\">\n",
    "    <img src=\"./static/Performance/computation.jpg\" align=\"center\"/>\n",
    "</p>"
   ]
  }
 ],
 "metadata": {
  "kernelspec": {
   "display_name": "Python 3 (ipykernel)",
   "language": "python",
   "name": "python3"
  },
  "language_info": {
   "codemirror_mode": {
    "name": "ipython",
    "version": 3
   },
   "file_extension": ".py",
   "mimetype": "text/x-python",
   "name": "python",
   "nbconvert_exporter": "python",
   "pygments_lexer": "ipython3",
   "version": "3.8.13"
  }
 },
 "nbformat": 4,
 "nbformat_minor": 5
}
