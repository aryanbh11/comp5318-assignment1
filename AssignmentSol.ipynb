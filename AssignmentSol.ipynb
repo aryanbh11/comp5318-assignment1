{
 "cells": [
  {
   "cell_type": "markdown",
   "id": "e1436aa6-7d31-41b7-a5de-9ec8bfaffc2e",
   "metadata": {},
   "source": [
    "# COMP5318 - Machine Learning and Data Mining: Assignment 1"
   ]
  },
  {
   "cell_type": "code",
   "execution_count": 1,
   "id": "39469cbb-b513-4095-a289-b5527ecf9d7b",
   "metadata": {
    "tags": []
   },
   "outputs": [
    {
     "name": "stdout",
     "output_type": "stream",
     "text": [
      "['train.csv']\n"
     ]
    }
   ],
   "source": [
    "import pandas as pd\n",
    "import os\n",
    "print(os.listdir(\"./Input/train\"))\n",
    "pd.set_option('display.max_columns', 10)\n",
    "\n",
    "from IPython.display import set_matplotlib_formats, display\n",
    "import pandas as pd\n",
    "import numpy as np\n",
    "import matplotlib.pyplot as plt\n",
    "from scipy.stats import skew\n",
    "from sklearn.decomposition import PCA\n",
    "from sklearn.preprocessing import StandardScaler\n",
    "from sklearn.preprocessing import MinMaxScaler\n",
    "from sklearn.model_selection import train_test_split\n",
    "from sklearn.neighbors import KNeighborsClassifier\n",
    "from sklearn.linear_model import LogisticRegression\n",
    "from sklearn.naive_bayes import GaussianNB\n",
    "from sklearn.metrics import accuracy_score\n",
    "from sklearn.tree import DecisionTreeClassifier\n",
    "from sklearn.tree import export_graphviz\n",
    "from sklearn.svm import SVC\n",
    "from sklearn.model_selection import GridSearchCV\n",
    "import graphviz\n",
    "\n",
    "%matplotlib inline"
   ]
  },
  {
   "cell_type": "code",
   "execution_count": 2,
   "id": "59917d86-8cfd-4c82-97a8-b96be8059c95",
   "metadata": {
    "tags": []
   },
   "outputs": [],
   "source": [
    "# train.csv including feature and label using for training model.\n",
    "data_train_df = pd.read_csv('./Input/train/train.csv') "
   ]
  },
  {
   "cell_type": "code",
   "execution_count": 3,
   "id": "7e38e674-c209-4cae-8397-64889d743816",
   "metadata": {
    "tags": []
   },
   "outputs": [],
   "source": [
    "# Selecting input feature\n",
    "data_train_feature = data_train_df.loc[:, \"v1\":\"v784\"].to_numpy()\n",
    "\n",
    "# Selecting output lable \n",
    "data_train_label = data_train_df.label.to_numpy()"
   ]
  },
  {
   "cell_type": "code",
   "execution_count": 4,
   "id": "a9896d0a-78bd-40a2-acaa-739af4fba83c",
   "metadata": {
    "jupyter": {
     "source_hidden": true
    },
    "tags": []
   },
   "outputs": [],
   "source": [
    "# import matplotlib.pyplot as plt\n",
    "# data_train_feature = data_train_feature.reshape((data_train_feature.shape[0], 28, 28))\n",
    "# plt.imshow(data_train_feature[0], cmap=plt.get_cmap('gray'))\n",
    "# plt.title(\"class \" + str(data_train_label[0]) + \": Pullover\" )\n",
    "# plt.show()\n",
    "\n",
    "# data_train_df.loc[:, \"v1\":\"v784\"]"
   ]
  },
  {
   "cell_type": "markdown",
   "id": "104bdac4-361d-44e3-8972-97157aa596d2",
   "metadata": {},
   "source": [
    "## DATA PRE-PROCESSING FOR TRAINING DATA"
   ]
  },
  {
   "cell_type": "code",
   "execution_count": 5,
   "id": "db2901dc-e218-4cb8-8812-964609456a60",
   "metadata": {
    "tags": []
   },
   "outputs": [
    {
     "data": {
      "text/plain": [
       "(30000, 784)"
      ]
     },
     "execution_count": 5,
     "metadata": {},
     "output_type": "execute_result"
    }
   ],
   "source": [
    "data_train_feature = data_train_feature.reshape(30000, 28*28)\n",
    "data_train_feature.shape"
   ]
  },
  {
   "cell_type": "code",
   "execution_count": 6,
   "id": "9eb8c115-3461-4c24-8014-5fe2cd259425",
   "metadata": {
    "tags": []
   },
   "outputs": [],
   "source": [
    "# Data Normalisation\n",
    "data_train_feature = pd.DataFrame(data_train_feature)\n",
    "skewed_feats = pd.DataFrame(data_train_feature).apply(lambda x: skew(x.dropna()))\n",
    "skewed_feats = skewed_feats[skewed_feats > 0.75]\n",
    "skewed_feats = skewed_feats.index\n",
    "\n",
    "data_train_feature[skewed_feats] = np.log1p(data_train_feature[skewed_feats])"
   ]
  },
  {
   "cell_type": "code",
   "execution_count": 7,
   "id": "96b584ef-c1bf-4979-84ad-fcab5e808a54",
   "metadata": {
    "tags": []
   },
   "outputs": [
    {
     "data": {
      "text/html": [
       "<div>\n",
       "<style scoped>\n",
       "    .dataframe tbody tr th:only-of-type {\n",
       "        vertical-align: middle;\n",
       "    }\n",
       "\n",
       "    .dataframe tbody tr th {\n",
       "        vertical-align: top;\n",
       "    }\n",
       "\n",
       "    .dataframe thead th {\n",
       "        text-align: right;\n",
       "    }\n",
       "</style>\n",
       "<table border=\"1\" class=\"dataframe\">\n",
       "  <thead>\n",
       "    <tr style=\"text-align: right;\">\n",
       "      <th></th>\n",
       "      <th>0</th>\n",
       "      <th>1</th>\n",
       "      <th>2</th>\n",
       "      <th>3</th>\n",
       "      <th>4</th>\n",
       "      <th>...</th>\n",
       "      <th>779</th>\n",
       "      <th>780</th>\n",
       "      <th>781</th>\n",
       "      <th>782</th>\n",
       "      <th>783</th>\n",
       "    </tr>\n",
       "  </thead>\n",
       "  <tbody>\n",
       "    <tr>\n",
       "      <th>0</th>\n",
       "      <td>0.0</td>\n",
       "      <td>0.0</td>\n",
       "      <td>0.0</td>\n",
       "      <td>0.000000</td>\n",
       "      <td>0.693147</td>\n",
       "      <td>...</td>\n",
       "      <td>0.000000</td>\n",
       "      <td>0.0</td>\n",
       "      <td>0.0</td>\n",
       "      <td>0.0</td>\n",
       "      <td>0.0</td>\n",
       "    </tr>\n",
       "    <tr>\n",
       "      <th>1</th>\n",
       "      <td>0.0</td>\n",
       "      <td>0.0</td>\n",
       "      <td>0.0</td>\n",
       "      <td>0.000000</td>\n",
       "      <td>0.000000</td>\n",
       "      <td>...</td>\n",
       "      <td>0.000000</td>\n",
       "      <td>0.0</td>\n",
       "      <td>0.0</td>\n",
       "      <td>0.0</td>\n",
       "      <td>0.0</td>\n",
       "    </tr>\n",
       "    <tr>\n",
       "      <th>2</th>\n",
       "      <td>0.0</td>\n",
       "      <td>0.0</td>\n",
       "      <td>0.0</td>\n",
       "      <td>0.000000</td>\n",
       "      <td>0.000000</td>\n",
       "      <td>...</td>\n",
       "      <td>0.000000</td>\n",
       "      <td>0.0</td>\n",
       "      <td>0.0</td>\n",
       "      <td>0.0</td>\n",
       "      <td>0.0</td>\n",
       "    </tr>\n",
       "    <tr>\n",
       "      <th>3</th>\n",
       "      <td>0.0</td>\n",
       "      <td>0.0</td>\n",
       "      <td>0.0</td>\n",
       "      <td>0.693147</td>\n",
       "      <td>0.000000</td>\n",
       "      <td>...</td>\n",
       "      <td>4.127134</td>\n",
       "      <td>0.0</td>\n",
       "      <td>0.0</td>\n",
       "      <td>0.0</td>\n",
       "      <td>0.0</td>\n",
       "    </tr>\n",
       "    <tr>\n",
       "      <th>4</th>\n",
       "      <td>0.0</td>\n",
       "      <td>0.0</td>\n",
       "      <td>0.0</td>\n",
       "      <td>0.000000</td>\n",
       "      <td>0.000000</td>\n",
       "      <td>...</td>\n",
       "      <td>0.000000</td>\n",
       "      <td>0.0</td>\n",
       "      <td>0.0</td>\n",
       "      <td>0.0</td>\n",
       "      <td>0.0</td>\n",
       "    </tr>\n",
       "    <tr>\n",
       "      <th>...</th>\n",
       "      <td>...</td>\n",
       "      <td>...</td>\n",
       "      <td>...</td>\n",
       "      <td>...</td>\n",
       "      <td>...</td>\n",
       "      <td>...</td>\n",
       "      <td>...</td>\n",
       "      <td>...</td>\n",
       "      <td>...</td>\n",
       "      <td>...</td>\n",
       "      <td>...</td>\n",
       "    </tr>\n",
       "    <tr>\n",
       "      <th>29995</th>\n",
       "      <td>0.0</td>\n",
       "      <td>0.0</td>\n",
       "      <td>0.0</td>\n",
       "      <td>0.000000</td>\n",
       "      <td>0.000000</td>\n",
       "      <td>...</td>\n",
       "      <td>0.000000</td>\n",
       "      <td>0.0</td>\n",
       "      <td>0.0</td>\n",
       "      <td>0.0</td>\n",
       "      <td>0.0</td>\n",
       "    </tr>\n",
       "    <tr>\n",
       "      <th>29996</th>\n",
       "      <td>0.0</td>\n",
       "      <td>0.0</td>\n",
       "      <td>0.0</td>\n",
       "      <td>0.000000</td>\n",
       "      <td>0.000000</td>\n",
       "      <td>...</td>\n",
       "      <td>0.000000</td>\n",
       "      <td>0.0</td>\n",
       "      <td>0.0</td>\n",
       "      <td>0.0</td>\n",
       "      <td>0.0</td>\n",
       "    </tr>\n",
       "    <tr>\n",
       "      <th>29997</th>\n",
       "      <td>0.0</td>\n",
       "      <td>0.0</td>\n",
       "      <td>0.0</td>\n",
       "      <td>0.000000</td>\n",
       "      <td>0.000000</td>\n",
       "      <td>...</td>\n",
       "      <td>0.000000</td>\n",
       "      <td>0.0</td>\n",
       "      <td>0.0</td>\n",
       "      <td>0.0</td>\n",
       "      <td>0.0</td>\n",
       "    </tr>\n",
       "    <tr>\n",
       "      <th>29998</th>\n",
       "      <td>0.0</td>\n",
       "      <td>0.0</td>\n",
       "      <td>0.0</td>\n",
       "      <td>0.000000</td>\n",
       "      <td>0.000000</td>\n",
       "      <td>...</td>\n",
       "      <td>0.000000</td>\n",
       "      <td>0.0</td>\n",
       "      <td>0.0</td>\n",
       "      <td>0.0</td>\n",
       "      <td>0.0</td>\n",
       "    </tr>\n",
       "    <tr>\n",
       "      <th>29999</th>\n",
       "      <td>0.0</td>\n",
       "      <td>0.0</td>\n",
       "      <td>0.0</td>\n",
       "      <td>0.000000</td>\n",
       "      <td>0.000000</td>\n",
       "      <td>...</td>\n",
       "      <td>0.000000</td>\n",
       "      <td>0.0</td>\n",
       "      <td>0.0</td>\n",
       "      <td>0.0</td>\n",
       "      <td>0.0</td>\n",
       "    </tr>\n",
       "  </tbody>\n",
       "</table>\n",
       "<p>30000 rows × 784 columns</p>\n",
       "</div>"
      ],
      "text/plain": [
       "       0    1    2         3         4    ...       779  780  781  782  783\n",
       "0      0.0  0.0  0.0  0.000000  0.693147  ...  0.000000  0.0  0.0  0.0  0.0\n",
       "1      0.0  0.0  0.0  0.000000  0.000000  ...  0.000000  0.0  0.0  0.0  0.0\n",
       "2      0.0  0.0  0.0  0.000000  0.000000  ...  0.000000  0.0  0.0  0.0  0.0\n",
       "3      0.0  0.0  0.0  0.693147  0.000000  ...  4.127134  0.0  0.0  0.0  0.0\n",
       "4      0.0  0.0  0.0  0.000000  0.000000  ...  0.000000  0.0  0.0  0.0  0.0\n",
       "...    ...  ...  ...       ...       ...  ...       ...  ...  ...  ...  ...\n",
       "29995  0.0  0.0  0.0  0.000000  0.000000  ...  0.000000  0.0  0.0  0.0  0.0\n",
       "29996  0.0  0.0  0.0  0.000000  0.000000  ...  0.000000  0.0  0.0  0.0  0.0\n",
       "29997  0.0  0.0  0.0  0.000000  0.000000  ...  0.000000  0.0  0.0  0.0  0.0\n",
       "29998  0.0  0.0  0.0  0.000000  0.000000  ...  0.000000  0.0  0.0  0.0  0.0\n",
       "29999  0.0  0.0  0.0  0.000000  0.000000  ...  0.000000  0.0  0.0  0.0  0.0\n",
       "\n",
       "[30000 rows x 784 columns]"
      ]
     },
     "execution_count": 7,
     "metadata": {},
     "output_type": "execute_result"
    }
   ],
   "source": [
    "# Filling NAs with the mean of the columns\n",
    "data_train_feature = data_train_feature.fillna(data_train_feature.mean())\n",
    "data_train_feature "
   ]
  },
  {
   "cell_type": "code",
   "execution_count": 8,
   "id": "363b49ec-2887-47b9-87d6-c1dc3d906546",
   "metadata": {
    "tags": []
   },
   "outputs": [],
   "source": [
    "# Data Standardisation\n",
    "data_train_feature = StandardScaler().fit_transform(data_train_feature)"
   ]
  },
  {
   "cell_type": "code",
   "execution_count": 9,
   "id": "f831318a-56dc-410e-8648-fed11e2b3a23",
   "metadata": {
    "tags": []
   },
   "outputs": [],
   "source": [
    "pca = PCA(n_components=0.9)\n",
    "principalComponents = pca.fit_transform(data_train_feature)\n",
    "\n",
    "principalDf = pd.DataFrame(data = principalComponents)"
   ]
  },
  {
   "cell_type": "code",
   "execution_count": 10,
   "id": "0972857f-c34c-4883-b529-faa9721f7ff0",
   "metadata": {
    "tags": []
   },
   "outputs": [],
   "source": [
    "finalDf = pd.concat([principalDf, data_train_df.label], axis = 1)"
   ]
  },
  {
   "cell_type": "markdown",
   "id": "b7220587-df84-4ff8-b842-86f388695908",
   "metadata": {},
   "source": [
    "## DATA PRE-PROCESSING FOR TESTING DATA"
   ]
  },
  {
   "cell_type": "code",
   "execution_count": 11,
   "id": "59fc71f5-eb1c-424f-9f49-3a4ab6e5ac1d",
   "metadata": {
    "jupyter": {
     "outputs_hidden": true,
     "source_hidden": true
    },
    "tags": []
   },
   "outputs": [
    {
     "data": {
      "text/html": [
       "<div>\n",
       "<style scoped>\n",
       "    .dataframe tbody tr th:only-of-type {\n",
       "        vertical-align: middle;\n",
       "    }\n",
       "\n",
       "    .dataframe tbody tr th {\n",
       "        vertical-align: top;\n",
       "    }\n",
       "\n",
       "    .dataframe thead th {\n",
       "        text-align: right;\n",
       "    }\n",
       "</style>\n",
       "<table border=\"1\" class=\"dataframe\">\n",
       "  <thead>\n",
       "    <tr style=\"text-align: right;\">\n",
       "      <th></th>\n",
       "      <th>id</th>\n",
       "      <th>v1</th>\n",
       "      <th>v2</th>\n",
       "      <th>v3</th>\n",
       "      <th>v4</th>\n",
       "      <th>...</th>\n",
       "      <th>v780</th>\n",
       "      <th>v781</th>\n",
       "      <th>v782</th>\n",
       "      <th>v783</th>\n",
       "      <th>v784</th>\n",
       "    </tr>\n",
       "  </thead>\n",
       "  <tbody>\n",
       "    <tr>\n",
       "      <th>0</th>\n",
       "      <td>0</td>\n",
       "      <td>0</td>\n",
       "      <td>0</td>\n",
       "      <td>0</td>\n",
       "      <td>0</td>\n",
       "      <td>...</td>\n",
       "      <td>0</td>\n",
       "      <td>0</td>\n",
       "      <td>0</td>\n",
       "      <td>0</td>\n",
       "      <td>0</td>\n",
       "    </tr>\n",
       "    <tr>\n",
       "      <th>1</th>\n",
       "      <td>1</td>\n",
       "      <td>0</td>\n",
       "      <td>0</td>\n",
       "      <td>0</td>\n",
       "      <td>0</td>\n",
       "      <td>...</td>\n",
       "      <td>0</td>\n",
       "      <td>0</td>\n",
       "      <td>0</td>\n",
       "      <td>0</td>\n",
       "      <td>0</td>\n",
       "    </tr>\n",
       "    <tr>\n",
       "      <th>2</th>\n",
       "      <td>2</td>\n",
       "      <td>0</td>\n",
       "      <td>0</td>\n",
       "      <td>0</td>\n",
       "      <td>0</td>\n",
       "      <td>...</td>\n",
       "      <td>0</td>\n",
       "      <td>0</td>\n",
       "      <td>0</td>\n",
       "      <td>0</td>\n",
       "      <td>0</td>\n",
       "    </tr>\n",
       "    <tr>\n",
       "      <th>3</th>\n",
       "      <td>3</td>\n",
       "      <td>0</td>\n",
       "      <td>0</td>\n",
       "      <td>0</td>\n",
       "      <td>0</td>\n",
       "      <td>...</td>\n",
       "      <td>0</td>\n",
       "      <td>0</td>\n",
       "      <td>0</td>\n",
       "      <td>0</td>\n",
       "      <td>0</td>\n",
       "    </tr>\n",
       "    <tr>\n",
       "      <th>4</th>\n",
       "      <td>4</td>\n",
       "      <td>0</td>\n",
       "      <td>0</td>\n",
       "      <td>0</td>\n",
       "      <td>0</td>\n",
       "      <td>...</td>\n",
       "      <td>0</td>\n",
       "      <td>0</td>\n",
       "      <td>0</td>\n",
       "      <td>0</td>\n",
       "      <td>0</td>\n",
       "    </tr>\n",
       "    <tr>\n",
       "      <th>...</th>\n",
       "      <td>...</td>\n",
       "      <td>...</td>\n",
       "      <td>...</td>\n",
       "      <td>...</td>\n",
       "      <td>...</td>\n",
       "      <td>...</td>\n",
       "      <td>...</td>\n",
       "      <td>...</td>\n",
       "      <td>...</td>\n",
       "      <td>...</td>\n",
       "      <td>...</td>\n",
       "    </tr>\n",
       "    <tr>\n",
       "      <th>4995</th>\n",
       "      <td>4995</td>\n",
       "      <td>0</td>\n",
       "      <td>0</td>\n",
       "      <td>0</td>\n",
       "      <td>0</td>\n",
       "      <td>...</td>\n",
       "      <td>0</td>\n",
       "      <td>0</td>\n",
       "      <td>0</td>\n",
       "      <td>0</td>\n",
       "      <td>0</td>\n",
       "    </tr>\n",
       "    <tr>\n",
       "      <th>4996</th>\n",
       "      <td>4996</td>\n",
       "      <td>0</td>\n",
       "      <td>0</td>\n",
       "      <td>0</td>\n",
       "      <td>0</td>\n",
       "      <td>...</td>\n",
       "      <td>0</td>\n",
       "      <td>0</td>\n",
       "      <td>0</td>\n",
       "      <td>0</td>\n",
       "      <td>0</td>\n",
       "    </tr>\n",
       "    <tr>\n",
       "      <th>4997</th>\n",
       "      <td>4997</td>\n",
       "      <td>0</td>\n",
       "      <td>0</td>\n",
       "      <td>0</td>\n",
       "      <td>0</td>\n",
       "      <td>...</td>\n",
       "      <td>0</td>\n",
       "      <td>0</td>\n",
       "      <td>0</td>\n",
       "      <td>0</td>\n",
       "      <td>0</td>\n",
       "    </tr>\n",
       "    <tr>\n",
       "      <th>4998</th>\n",
       "      <td>4998</td>\n",
       "      <td>0</td>\n",
       "      <td>0</td>\n",
       "      <td>0</td>\n",
       "      <td>0</td>\n",
       "      <td>...</td>\n",
       "      <td>0</td>\n",
       "      <td>0</td>\n",
       "      <td>0</td>\n",
       "      <td>0</td>\n",
       "      <td>0</td>\n",
       "    </tr>\n",
       "    <tr>\n",
       "      <th>4999</th>\n",
       "      <td>4999</td>\n",
       "      <td>0</td>\n",
       "      <td>0</td>\n",
       "      <td>3</td>\n",
       "      <td>1</td>\n",
       "      <td>...</td>\n",
       "      <td>152</td>\n",
       "      <td>134</td>\n",
       "      <td>44</td>\n",
       "      <td>0</td>\n",
       "      <td>0</td>\n",
       "    </tr>\n",
       "  </tbody>\n",
       "</table>\n",
       "<p>5000 rows × 785 columns</p>\n",
       "</div>"
      ],
      "text/plain": [
       "        id  v1  v2  v3  v4  ...  v780  v781  v782  v783  v784\n",
       "0        0   0   0   0   0  ...     0     0     0     0     0\n",
       "1        1   0   0   0   0  ...     0     0     0     0     0\n",
       "2        2   0   0   0   0  ...     0     0     0     0     0\n",
       "3        3   0   0   0   0  ...     0     0     0     0     0\n",
       "4        4   0   0   0   0  ...     0     0     0     0     0\n",
       "...    ...  ..  ..  ..  ..  ...   ...   ...   ...   ...   ...\n",
       "4995  4995   0   0   0   0  ...     0     0     0     0     0\n",
       "4996  4996   0   0   0   0  ...     0     0     0     0     0\n",
       "4997  4997   0   0   0   0  ...     0     0     0     0     0\n",
       "4998  4998   0   0   0   0  ...     0     0     0     0     0\n",
       "4999  4999   0   0   3   1  ...   152   134    44     0     0\n",
       "\n",
       "[5000 rows x 785 columns]"
      ]
     },
     "execution_count": 11,
     "metadata": {},
     "output_type": "execute_result"
    }
   ],
   "source": [
    "# test_input.csv includes 5000 samples used for label prediction. Test samples do not have labels.\n",
    "data_test_df = pd.read_csv('./Input/test/test_input.csv')\n",
    "data_test_df"
   ]
  },
  {
   "cell_type": "code",
   "execution_count": 12,
   "id": "f3d1542a-1d95-4f5a-ac5a-43445174f62d",
   "metadata": {
    "jupyter": {
     "source_hidden": true
    },
    "tags": []
   },
   "outputs": [],
   "source": [
    "# Data Normalisation\n",
    "skewed_feats = data_test_df.apply(lambda x: skew(x.dropna()))\n",
    "skewed_feats = skewed_feats[skewed_feats > 0.75]\n",
    "skewed_feats = skewed_feats.index\n",
    "\n",
    "data_test_df[skewed_feats] = np.log1p(data_test_df[skewed_feats])"
   ]
  },
  {
   "cell_type": "code",
   "execution_count": 13,
   "id": "65661692-9fd6-4e73-aca9-821bcc966b8b",
   "metadata": {
    "jupyter": {
     "outputs_hidden": true,
     "source_hidden": true
    },
    "tags": []
   },
   "outputs": [
    {
     "data": {
      "text/html": [
       "<div>\n",
       "<style scoped>\n",
       "    .dataframe tbody tr th:only-of-type {\n",
       "        vertical-align: middle;\n",
       "    }\n",
       "\n",
       "    .dataframe tbody tr th {\n",
       "        vertical-align: top;\n",
       "    }\n",
       "\n",
       "    .dataframe thead th {\n",
       "        text-align: right;\n",
       "    }\n",
       "</style>\n",
       "<table border=\"1\" class=\"dataframe\">\n",
       "  <thead>\n",
       "    <tr style=\"text-align: right;\">\n",
       "      <th></th>\n",
       "      <th>id</th>\n",
       "      <th>v1</th>\n",
       "      <th>v2</th>\n",
       "      <th>v3</th>\n",
       "      <th>v4</th>\n",
       "      <th>...</th>\n",
       "      <th>v780</th>\n",
       "      <th>v781</th>\n",
       "      <th>v782</th>\n",
       "      <th>v783</th>\n",
       "      <th>v784</th>\n",
       "    </tr>\n",
       "  </thead>\n",
       "  <tbody>\n",
       "    <tr>\n",
       "      <th>0</th>\n",
       "      <td>0</td>\n",
       "      <td>0</td>\n",
       "      <td>0.0</td>\n",
       "      <td>0.000000</td>\n",
       "      <td>0.000000</td>\n",
       "      <td>...</td>\n",
       "      <td>0.000000</td>\n",
       "      <td>0.000000</td>\n",
       "      <td>0.000000</td>\n",
       "      <td>0.0</td>\n",
       "      <td>0.0</td>\n",
       "    </tr>\n",
       "    <tr>\n",
       "      <th>1</th>\n",
       "      <td>1</td>\n",
       "      <td>0</td>\n",
       "      <td>0.0</td>\n",
       "      <td>0.000000</td>\n",
       "      <td>0.000000</td>\n",
       "      <td>...</td>\n",
       "      <td>0.000000</td>\n",
       "      <td>0.000000</td>\n",
       "      <td>0.000000</td>\n",
       "      <td>0.0</td>\n",
       "      <td>0.0</td>\n",
       "    </tr>\n",
       "    <tr>\n",
       "      <th>2</th>\n",
       "      <td>2</td>\n",
       "      <td>0</td>\n",
       "      <td>0.0</td>\n",
       "      <td>0.000000</td>\n",
       "      <td>0.000000</td>\n",
       "      <td>...</td>\n",
       "      <td>0.000000</td>\n",
       "      <td>0.000000</td>\n",
       "      <td>0.000000</td>\n",
       "      <td>0.0</td>\n",
       "      <td>0.0</td>\n",
       "    </tr>\n",
       "    <tr>\n",
       "      <th>3</th>\n",
       "      <td>3</td>\n",
       "      <td>0</td>\n",
       "      <td>0.0</td>\n",
       "      <td>0.000000</td>\n",
       "      <td>0.000000</td>\n",
       "      <td>...</td>\n",
       "      <td>0.000000</td>\n",
       "      <td>0.000000</td>\n",
       "      <td>0.000000</td>\n",
       "      <td>0.0</td>\n",
       "      <td>0.0</td>\n",
       "    </tr>\n",
       "    <tr>\n",
       "      <th>4</th>\n",
       "      <td>4</td>\n",
       "      <td>0</td>\n",
       "      <td>0.0</td>\n",
       "      <td>0.000000</td>\n",
       "      <td>0.000000</td>\n",
       "      <td>...</td>\n",
       "      <td>0.000000</td>\n",
       "      <td>0.000000</td>\n",
       "      <td>0.000000</td>\n",
       "      <td>0.0</td>\n",
       "      <td>0.0</td>\n",
       "    </tr>\n",
       "    <tr>\n",
       "      <th>...</th>\n",
       "      <td>...</td>\n",
       "      <td>...</td>\n",
       "      <td>...</td>\n",
       "      <td>...</td>\n",
       "      <td>...</td>\n",
       "      <td>...</td>\n",
       "      <td>...</td>\n",
       "      <td>...</td>\n",
       "      <td>...</td>\n",
       "      <td>...</td>\n",
       "      <td>...</td>\n",
       "    </tr>\n",
       "    <tr>\n",
       "      <th>4995</th>\n",
       "      <td>4995</td>\n",
       "      <td>0</td>\n",
       "      <td>0.0</td>\n",
       "      <td>0.000000</td>\n",
       "      <td>0.000000</td>\n",
       "      <td>...</td>\n",
       "      <td>0.000000</td>\n",
       "      <td>0.000000</td>\n",
       "      <td>0.000000</td>\n",
       "      <td>0.0</td>\n",
       "      <td>0.0</td>\n",
       "    </tr>\n",
       "    <tr>\n",
       "      <th>4996</th>\n",
       "      <td>4996</td>\n",
       "      <td>0</td>\n",
       "      <td>0.0</td>\n",
       "      <td>0.000000</td>\n",
       "      <td>0.000000</td>\n",
       "      <td>...</td>\n",
       "      <td>0.000000</td>\n",
       "      <td>0.000000</td>\n",
       "      <td>0.000000</td>\n",
       "      <td>0.0</td>\n",
       "      <td>0.0</td>\n",
       "    </tr>\n",
       "    <tr>\n",
       "      <th>4997</th>\n",
       "      <td>4997</td>\n",
       "      <td>0</td>\n",
       "      <td>0.0</td>\n",
       "      <td>0.000000</td>\n",
       "      <td>0.000000</td>\n",
       "      <td>...</td>\n",
       "      <td>0.000000</td>\n",
       "      <td>0.000000</td>\n",
       "      <td>0.000000</td>\n",
       "      <td>0.0</td>\n",
       "      <td>0.0</td>\n",
       "    </tr>\n",
       "    <tr>\n",
       "      <th>4998</th>\n",
       "      <td>4998</td>\n",
       "      <td>0</td>\n",
       "      <td>0.0</td>\n",
       "      <td>0.000000</td>\n",
       "      <td>0.000000</td>\n",
       "      <td>...</td>\n",
       "      <td>0.000000</td>\n",
       "      <td>0.000000</td>\n",
       "      <td>0.000000</td>\n",
       "      <td>0.0</td>\n",
       "      <td>0.0</td>\n",
       "    </tr>\n",
       "    <tr>\n",
       "      <th>4999</th>\n",
       "      <td>4999</td>\n",
       "      <td>0</td>\n",
       "      <td>0.0</td>\n",
       "      <td>1.386294</td>\n",
       "      <td>0.693147</td>\n",
       "      <td>...</td>\n",
       "      <td>5.030438</td>\n",
       "      <td>4.905275</td>\n",
       "      <td>3.806662</td>\n",
       "      <td>0.0</td>\n",
       "      <td>0.0</td>\n",
       "    </tr>\n",
       "  </tbody>\n",
       "</table>\n",
       "<p>5000 rows × 785 columns</p>\n",
       "</div>"
      ],
      "text/plain": [
       "        id  v1   v2        v3        v4  ...      v780      v781      v782  \\\n",
       "0        0   0  0.0  0.000000  0.000000  ...  0.000000  0.000000  0.000000   \n",
       "1        1   0  0.0  0.000000  0.000000  ...  0.000000  0.000000  0.000000   \n",
       "2        2   0  0.0  0.000000  0.000000  ...  0.000000  0.000000  0.000000   \n",
       "3        3   0  0.0  0.000000  0.000000  ...  0.000000  0.000000  0.000000   \n",
       "4        4   0  0.0  0.000000  0.000000  ...  0.000000  0.000000  0.000000   \n",
       "...    ...  ..  ...       ...       ...  ...       ...       ...       ...   \n",
       "4995  4995   0  0.0  0.000000  0.000000  ...  0.000000  0.000000  0.000000   \n",
       "4996  4996   0  0.0  0.000000  0.000000  ...  0.000000  0.000000  0.000000   \n",
       "4997  4997   0  0.0  0.000000  0.000000  ...  0.000000  0.000000  0.000000   \n",
       "4998  4998   0  0.0  0.000000  0.000000  ...  0.000000  0.000000  0.000000   \n",
       "4999  4999   0  0.0  1.386294  0.693147  ...  5.030438  4.905275  3.806662   \n",
       "\n",
       "      v783  v784  \n",
       "0      0.0   0.0  \n",
       "1      0.0   0.0  \n",
       "2      0.0   0.0  \n",
       "3      0.0   0.0  \n",
       "4      0.0   0.0  \n",
       "...    ...   ...  \n",
       "4995   0.0   0.0  \n",
       "4996   0.0   0.0  \n",
       "4997   0.0   0.0  \n",
       "4998   0.0   0.0  \n",
       "4999   0.0   0.0  \n",
       "\n",
       "[5000 rows x 785 columns]"
      ]
     },
     "execution_count": 13,
     "metadata": {},
     "output_type": "execute_result"
    }
   ],
   "source": [
    "# Filling NAs with the mean of the columns\n",
    "data_test_df = data_test_df.fillna(data_test_df.mean())\n",
    "data_test_df"
   ]
  },
  {
   "cell_type": "code",
   "execution_count": 14,
   "id": "c578f4e1-e587-4fe2-8b0f-256e12fff0bb",
   "metadata": {
    "jupyter": {
     "source_hidden": true
    },
    "tags": []
   },
   "outputs": [],
   "source": [
    "# Data Standardisation\n",
    "data_test_df = StandardScaler().fit_transform(data_test_df)"
   ]
  },
  {
   "cell_type": "code",
   "execution_count": 15,
   "id": "031776ac-9e68-44b2-b094-24939a70a370",
   "metadata": {
    "jupyter": {
     "outputs_hidden": true,
     "source_hidden": true
    },
    "tags": []
   },
   "outputs": [],
   "source": [
    "# Dimension Reduction\n",
    "pca = PCA(n_components=140) # Based on 90% explain variance for the training data \n",
    "principalComponents_test = pca.fit_transform(data_test_df)\n",
    "principalDf_test = pd.DataFrame(data = principalComponents_test)"
   ]
  },
  {
   "cell_type": "markdown",
   "id": "f3a1b5cd-4ab0-4c35-885f-8d454b99844a",
   "metadata": {
    "tags": []
   },
   "source": [
    "## KNN"
   ]
  },
  {
   "cell_type": "code",
   "execution_count": 16,
   "id": "fea1afcd-f1f5-49fb-bcf5-a2d7e8d470f2",
   "metadata": {
    "tags": []
   },
   "outputs": [],
   "source": [
    "X_train, X_test, y_train, y_test = train_test_split(\n",
    "    principalDf.to_numpy(), data_train_label, random_state=0)"
   ]
  },
  {
   "cell_type": "code",
   "execution_count": 17,
   "id": "ff95a81c-8125-4880-9c61-bb121d2a4f5e",
   "metadata": {
    "jupyter": {
     "source_hidden": true
    },
    "tags": []
   },
   "outputs": [
    {
     "name": "stdout",
     "output_type": "stream",
     "text": [
      "X_train shape: (22500, 140)\n",
      "y_train shape: (22500,)\n"
     ]
    }
   ],
   "source": [
    "print(\"X_train shape:\", X_train.shape)\n",
    "print(\"y_train shape:\", y_train.shape)"
   ]
  },
  {
   "cell_type": "code",
   "execution_count": 18,
   "id": "652c58d1-6c7c-4e35-8f64-4562c481f9b8",
   "metadata": {
    "jupyter": {
     "source_hidden": true
    },
    "tags": []
   },
   "outputs": [
    {
     "name": "stdout",
     "output_type": "stream",
     "text": [
      "X_test shape: (7500, 140)\n",
      "y_test shape: (7500,)\n"
     ]
    }
   ],
   "source": [
    "print(\"X_test shape:\", X_test.shape)\n",
    "print(\"y_test shape:\", y_test.shape)"
   ]
  },
  {
   "cell_type": "code",
   "execution_count": 19,
   "id": "63a9e582-0944-4aa6-b6ef-817ca2f211ed",
   "metadata": {
    "jupyter": {
     "source_hidden": true
    },
    "tags": []
   },
   "outputs": [],
   "source": [
    "knn = KNeighborsClassifier(n_neighbors=2)"
   ]
  },
  {
   "cell_type": "code",
   "execution_count": 20,
   "id": "a00886bc-9f67-45a9-8989-0a4b8d739a7d",
   "metadata": {
    "jupyter": {
     "source_hidden": true
    },
    "tags": []
   },
   "outputs": [
    {
     "data": {
      "text/plain": [
       "KNeighborsClassifier(n_neighbors=2)"
      ]
     },
     "execution_count": 20,
     "metadata": {},
     "output_type": "execute_result"
    }
   ],
   "source": [
    "knn.fit(X_train, y_train)"
   ]
  },
  {
   "cell_type": "code",
   "execution_count": 21,
   "id": "f6e69559-6e0a-44cc-abe1-054353078dcf",
   "metadata": {
    "jupyter": {
     "source_hidden": true
    },
    "tags": []
   },
   "outputs": [
    {
     "data": {
      "text/plain": [
       "array([5, 3, 2, ..., 9, 1, 8])"
      ]
     },
     "execution_count": 21,
     "metadata": {},
     "output_type": "execute_result"
    }
   ],
   "source": [
    "y_pred = knn.predict(X_test)\n",
    "y_pred"
   ]
  },
  {
   "cell_type": "code",
   "execution_count": 22,
   "id": "b363d3b8-0ffb-42f7-bcfd-5b62af7d5993",
   "metadata": {
    "jupyter": {
     "source_hidden": true
    },
    "tags": []
   },
   "outputs": [
    {
     "data": {
      "text/plain": [
       "0.8396"
      ]
     },
     "execution_count": 22,
     "metadata": {},
     "output_type": "execute_result"
    }
   ],
   "source": [
    "knn.score(X_test, y_test)"
   ]
  },
  {
   "cell_type": "code",
   "execution_count": null,
   "id": "5f4f399f",
   "metadata": {},
   "outputs": [],
   "source": [
    "# Parameter Tuning\n",
    "param_grid = {'n_neighbors': [1, 3, 5, 11, 15], 'p': [1, 2]}\n",
    "\n",
    "grid_search = GridSearchCV(KNeighborsClassifier(), param_grid, return_train_score=True)\n",
    "grid_search.fit(X_train, y_train)\n",
    "\n",
    "print(\"Test set score: {:.2f}\".format(grid_search.score(X_test, y_test)))\n",
    "print(\"Best parameters: {}\".format(grid_search.best_params_))\n",
    "print(\"Best cross-validation score: {:.2f}\".format(grid_search.best_score_))\n",
    "print(\"Best estimator:\\n{}\".format(grid_search.best_estimator_))"
   ]
  },
  {
   "cell_type": "code",
   "execution_count": null,
   "id": "34cde0eb-e69d-47bc-92d7-90dd36f2fe07",
   "metadata": {
    "jupyter": {
     "outputs_hidden": true
    },
    "tags": []
   },
   "outputs": [],
   "source": [
    "predictions = []\n",
    "\n",
    "for i in principalDf_test.to_numpy():\n",
    "    prediction = knn.predict([list(i)])\n",
    "    predictions.append(prediction[0])"
   ]
  },
  {
   "cell_type": "code",
   "execution_count": null,
   "id": "4228337a-15f5-47b0-8970-02477b148a3e",
   "metadata": {
    "tags": []
   },
   "outputs": [],
   "source": [
    "finaldf_test_knn_initial = pd.DataFrame(predictions)\n",
    "finaldf_test_knn_initial.insert(0, 'id', range(0,len(finaldf_test_knn_initial)))\n",
    "finaldf_test_knn_initial.columns = ['id', 'label']\n",
    "finaldf_test_knn_initial"
   ]
  },
  {
   "cell_type": "code",
   "execution_count": null,
   "id": "74d27ef7-00f9-4111-a066-9535486902da",
   "metadata": {
    "tags": []
   },
   "outputs": [],
   "source": [
    "finaldf_test_knn_initial.to_csv('knnTestInitialPredictions.csv', index = False)"
   ]
  },
  {
   "cell_type": "markdown",
   "id": "01693676-3e2e-4ac6-9b68-def5e474ffdf",
   "metadata": {},
   "source": [
    "## LOGISTIC REGRESSION"
   ]
  },
  {
   "cell_type": "code",
   "execution_count": null,
   "id": "f2473346-1eb6-4789-ba4a-452147dca965",
   "metadata": {},
   "outputs": [],
   "source": [
    "X_train, X_test, y_train, y_test = train_test_split(principalDf.to_numpy(), data_train_label, \n",
    "                                                    stratify=data_train_label, random_state=42)"
   ]
  },
  {
   "cell_type": "code",
   "execution_count": null,
   "id": "aab9b0ff-26f4-436e-972f-1e1018c51a93",
   "metadata": {},
   "outputs": [],
   "source": [
    "logreg = LogisticRegression(max_iter = 5000)\n",
    "logreg.fit(X_train, y_train)\n",
    "print(\"Accuracy on trainig set:\", logreg.score(X_train, y_train)*100)\n",
    "print(\"Accuracy on test set:\", logreg.score(X_test, y_test)*100)"
   ]
  },
  {
   "cell_type": "markdown",
   "id": "e3770e13-cad3-4b34-aad6-c39b9f0850c3",
   "metadata": {},
   "source": [
    "## NAIVE BAYES"
   ]
  },
  {
   "cell_type": "code",
   "execution_count": null,
   "id": "23d0bb8d-b91b-48ab-9b8c-93d78a42edd5",
   "metadata": {},
   "outputs": [],
   "source": [
    "X_train, X_test, y_train, y_test = train_test_split(principalDf.to_numpy(), data_train_label, \n",
    "                                                    stratify=data_train_label, random_state=42)\n",
    "\n",
    "nb = GaussianNB()\n",
    "nb.fit(X_train, y_train)\n",
    "y_pred = nb.predict(X_test)\n",
    "print(\"Accuracy on test set: {:.3f}\".format(accuracy_score(y_test, y_pred)))"
   ]
  },
  {
   "cell_type": "markdown",
   "id": "372df120-22c7-4610-b66f-e271db987832",
   "metadata": {},
   "source": [
    "## DECISION TREE"
   ]
  },
  {
   "cell_type": "code",
   "execution_count": null,
   "id": "1f241d7a-f7b9-4e4b-a5ad-143c63f1b3a7",
   "metadata": {},
   "outputs": [],
   "source": [
    "X_train, X_test, y_train, y_test = train_test_split(principalDf.to_numpy(), data_train_label, \n",
    "                                                    stratify=data_train_label, random_state=42)\n",
    "\n",
    "tree = DecisionTreeClassifier(criterion='entropy', max_depth=12, random_state=42)\n",
    "tree.fit(X_train, y_train)"
   ]
  },
  {
   "cell_type": "code",
   "execution_count": null,
   "id": "414fdeff-dbdd-4149-93d9-6f51ec0c8eeb",
   "metadata": {},
   "outputs": [],
   "source": [
    "print(\"Accuracy on training set: {:.3f}\".format(tree.score(X_train, y_train)))\n",
    "print(\"Accuracy on test set: {:.3f}\".format(tree.score(X_test, y_test)))"
   ]
  }
 ],
 "metadata": {
  "kernelspec": {
   "display_name": "Python 3 (ipykernel)",
   "language": "python",
   "name": "python3"
  },
  "language_info": {
   "codemirror_mode": {
    "name": "ipython",
    "version": 3
   },
   "file_extension": ".py",
   "mimetype": "text/x-python",
   "name": "python",
   "nbconvert_exporter": "python",
   "pygments_lexer": "ipython3",
   "version": "3.7.12"
  }
 },
 "nbformat": 4,
 "nbformat_minor": 5
}
